{
  "nbformat": 4,
  "nbformat_minor": 0,
  "metadata": {
    "colab": {
      "name": "Predicting Purchases in Online Shops.ipynb",
      "provenance": [],
      "collapsed_sections": []
    },
    "kernelspec": {
      "name": "python3",
      "display_name": "Python 3"
    },
    "language_info": {
      "name": "python"
    },
    "accelerator": "GPU"
  },
  "cells": [
    {
      "cell_type": "markdown",
      "source": [
        "# Final Project_Sina Alba"
      ],
      "metadata": {
        "id": "1ZblaLu0cEGP"
      }
    },
    {
      "cell_type": "markdown",
      "source": [
        "#Tools\n",
        "\n",
        "\n"
      ],
      "metadata": {
        "id": "b869aE5qf3H3"
      }
    },
    {
      "cell_type": "markdown",
      "source": [
        "\n",
        "\n",
        "Let's import **necessary tools** for the project: "
      ],
      "metadata": {
        "id": "BWphmbzGHKSD"
      }
    },
    {
      "cell_type": "code",
      "source": [
        "import numpy as np\n",
        "import pandas as pd\n",
        "from pandas_profiling import ProfileReport\n",
        "import matplotlib.pyplot as plt\n",
        "import seaborn as sns\n",
        "import plotly.graph_objs as go\n",
        "import plotly.express as px\n",
        "from sklearn.linear_model import LogisticRegression\n",
        "from sklearn.neighbors import KNeighborsClassifier\n",
        "from sklearn.svm import SVC\n",
        "%matplotlib inline"
      ],
      "metadata": {
        "id": "98qUuvOrcFBy"
      },
      "execution_count": null,
      "outputs": []
    },
    {
      "cell_type": "markdown",
      "source": [
        "#Load Data"
      ],
      "metadata": {
        "id": "_kKzXTuvf6Va"
      }
    },
    {
      "cell_type": "code",
      "source": [
        "df = pd.read_csv('https://github.com/iamomiid/Marshall-Final-Project/raw/master/marshall.csv')\n",
        "categorialColumns = ['OperatingSystems', 'Region', 'TrafficType','Browser', 'Weekend', 'Month', 'VisitorType']"
      ],
      "metadata": {
        "id": "-M9v2NQod1wj"
      },
      "execution_count": null,
      "outputs": []
    },
    {
      "cell_type": "code",
      "source": [
        "df"
      ],
      "metadata": {
        "id": "wFK6D0Kheu1P",
        "colab": {
          "base_uri": "https://localhost:8080/",
          "height": 487
        },
        "outputId": "8091ce35-3169-4900-9f45-36a4526a42d2"
      },
      "execution_count": null,
      "outputs": [
        {
          "output_type": "execute_result",
          "data": {
            "text/html": [
              "\n",
              "  <div id=\"df-bb0e5c0a-fae4-48bd-aeb6-14cb7826b72c\">\n",
              "    <div class=\"colab-df-container\">\n",
              "      <div>\n",
              "<style scoped>\n",
              "    .dataframe tbody tr th:only-of-type {\n",
              "        vertical-align: middle;\n",
              "    }\n",
              "\n",
              "    .dataframe tbody tr th {\n",
              "        vertical-align: top;\n",
              "    }\n",
              "\n",
              "    .dataframe thead th {\n",
              "        text-align: right;\n",
              "    }\n",
              "</style>\n",
              "<table border=\"1\" class=\"dataframe\">\n",
              "  <thead>\n",
              "    <tr style=\"text-align: right;\">\n",
              "      <th></th>\n",
              "      <th>Administrative</th>\n",
              "      <th>Administrative_Duration</th>\n",
              "      <th>Informational</th>\n",
              "      <th>Informational_Duration</th>\n",
              "      <th>ProductRelated</th>\n",
              "      <th>ProductRelated_Duration</th>\n",
              "      <th>BounceRates</th>\n",
              "      <th>ExitRates</th>\n",
              "      <th>PageValues</th>\n",
              "      <th>SpecialDay</th>\n",
              "      <th>Month</th>\n",
              "      <th>OperatingSystems</th>\n",
              "      <th>Browser</th>\n",
              "      <th>Region</th>\n",
              "      <th>TrafficType</th>\n",
              "      <th>VisitorType</th>\n",
              "      <th>Weekend</th>\n",
              "      <th>Revenue</th>\n",
              "    </tr>\n",
              "  </thead>\n",
              "  <tbody>\n",
              "    <tr>\n",
              "      <th>0</th>\n",
              "      <td>0.0</td>\n",
              "      <td>0.0</td>\n",
              "      <td>0.0</td>\n",
              "      <td>0.0</td>\n",
              "      <td>1.0</td>\n",
              "      <td>0.000000</td>\n",
              "      <td>0.200000</td>\n",
              "      <td>0.200000</td>\n",
              "      <td>0.000000</td>\n",
              "      <td>0.0</td>\n",
              "      <td>Feb</td>\n",
              "      <td>1.0</td>\n",
              "      <td>1.0</td>\n",
              "      <td>1.0</td>\n",
              "      <td>1.0</td>\n",
              "      <td>Returning_Visitor</td>\n",
              "      <td>False</td>\n",
              "      <td>False</td>\n",
              "    </tr>\n",
              "    <tr>\n",
              "      <th>1</th>\n",
              "      <td>0.0</td>\n",
              "      <td>0.0</td>\n",
              "      <td>0.0</td>\n",
              "      <td>0.0</td>\n",
              "      <td>2.0</td>\n",
              "      <td>64.000000</td>\n",
              "      <td>0.000000</td>\n",
              "      <td>0.100000</td>\n",
              "      <td>0.000000</td>\n",
              "      <td>0.0</td>\n",
              "      <td>Feb</td>\n",
              "      <td>2.0</td>\n",
              "      <td>2.0</td>\n",
              "      <td>1.0</td>\n",
              "      <td>2.0</td>\n",
              "      <td>Returning_Visitor</td>\n",
              "      <td>False</td>\n",
              "      <td>False</td>\n",
              "    </tr>\n",
              "    <tr>\n",
              "      <th>2</th>\n",
              "      <td>0.0</td>\n",
              "      <td>0.0</td>\n",
              "      <td>0.0</td>\n",
              "      <td>0.0</td>\n",
              "      <td>1.0</td>\n",
              "      <td>0.000000</td>\n",
              "      <td>NaN</td>\n",
              "      <td>0.200000</td>\n",
              "      <td>0.000000</td>\n",
              "      <td>0.0</td>\n",
              "      <td>Feb</td>\n",
              "      <td>4.0</td>\n",
              "      <td>1.0</td>\n",
              "      <td>9.0</td>\n",
              "      <td>3.0</td>\n",
              "      <td>Returning_Visitor</td>\n",
              "      <td>False</td>\n",
              "      <td>False</td>\n",
              "    </tr>\n",
              "    <tr>\n",
              "      <th>3</th>\n",
              "      <td>0.0</td>\n",
              "      <td>0.0</td>\n",
              "      <td>0.0</td>\n",
              "      <td>0.0</td>\n",
              "      <td>2.0</td>\n",
              "      <td>2.666667</td>\n",
              "      <td>0.050000</td>\n",
              "      <td>0.140000</td>\n",
              "      <td>0.000000</td>\n",
              "      <td>0.0</td>\n",
              "      <td>Feb</td>\n",
              "      <td>3.0</td>\n",
              "      <td>2.0</td>\n",
              "      <td>2.0</td>\n",
              "      <td>4.0</td>\n",
              "      <td>Returning_Visitor</td>\n",
              "      <td>False</td>\n",
              "      <td>False</td>\n",
              "    </tr>\n",
              "    <tr>\n",
              "      <th>4</th>\n",
              "      <td>0.0</td>\n",
              "      <td>NaN</td>\n",
              "      <td>0.0</td>\n",
              "      <td>0.0</td>\n",
              "      <td>10.0</td>\n",
              "      <td>627.500000</td>\n",
              "      <td>0.020000</td>\n",
              "      <td>0.050000</td>\n",
              "      <td>0.000000</td>\n",
              "      <td>0.0</td>\n",
              "      <td>Feb</td>\n",
              "      <td>3.0</td>\n",
              "      <td>3.0</td>\n",
              "      <td>1.0</td>\n",
              "      <td>4.0</td>\n",
              "      <td>Returning_Visitor</td>\n",
              "      <td>True</td>\n",
              "      <td>False</td>\n",
              "    </tr>\n",
              "    <tr>\n",
              "      <th>...</th>\n",
              "      <td>...</td>\n",
              "      <td>...</td>\n",
              "      <td>...</td>\n",
              "      <td>...</td>\n",
              "      <td>...</td>\n",
              "      <td>...</td>\n",
              "      <td>...</td>\n",
              "      <td>...</td>\n",
              "      <td>...</td>\n",
              "      <td>...</td>\n",
              "      <td>...</td>\n",
              "      <td>...</td>\n",
              "      <td>...</td>\n",
              "      <td>...</td>\n",
              "      <td>...</td>\n",
              "      <td>...</td>\n",
              "      <td>...</td>\n",
              "      <td>...</td>\n",
              "    </tr>\n",
              "    <tr>\n",
              "      <th>12325</th>\n",
              "      <td>3.0</td>\n",
              "      <td>145.0</td>\n",
              "      <td>0.0</td>\n",
              "      <td>0.0</td>\n",
              "      <td>53.0</td>\n",
              "      <td>1783.791667</td>\n",
              "      <td>0.007143</td>\n",
              "      <td>0.029031</td>\n",
              "      <td>12.241717</td>\n",
              "      <td>0.0</td>\n",
              "      <td>Dec</td>\n",
              "      <td>4.0</td>\n",
              "      <td>6.0</td>\n",
              "      <td>1.0</td>\n",
              "      <td>1.0</td>\n",
              "      <td>Returning_Visitor</td>\n",
              "      <td>True</td>\n",
              "      <td>False</td>\n",
              "    </tr>\n",
              "    <tr>\n",
              "      <th>12326</th>\n",
              "      <td>0.0</td>\n",
              "      <td>0.0</td>\n",
              "      <td>0.0</td>\n",
              "      <td>0.0</td>\n",
              "      <td>5.0</td>\n",
              "      <td>465.750000</td>\n",
              "      <td>0.000000</td>\n",
              "      <td>0.021333</td>\n",
              "      <td>0.000000</td>\n",
              "      <td>0.0</td>\n",
              "      <td>Nov</td>\n",
              "      <td>3.0</td>\n",
              "      <td>2.0</td>\n",
              "      <td>1.0</td>\n",
              "      <td>8.0</td>\n",
              "      <td>Returning_Visitor</td>\n",
              "      <td>True</td>\n",
              "      <td>False</td>\n",
              "    </tr>\n",
              "    <tr>\n",
              "      <th>12327</th>\n",
              "      <td>0.0</td>\n",
              "      <td>0.0</td>\n",
              "      <td>0.0</td>\n",
              "      <td>0.0</td>\n",
              "      <td>6.0</td>\n",
              "      <td>184.250000</td>\n",
              "      <td>0.083333</td>\n",
              "      <td>0.086667</td>\n",
              "      <td>0.000000</td>\n",
              "      <td>0.0</td>\n",
              "      <td>Nov</td>\n",
              "      <td>3.0</td>\n",
              "      <td>2.0</td>\n",
              "      <td>1.0</td>\n",
              "      <td>13.0</td>\n",
              "      <td>Returning_Visitor</td>\n",
              "      <td>True</td>\n",
              "      <td>False</td>\n",
              "    </tr>\n",
              "    <tr>\n",
              "      <th>12328</th>\n",
              "      <td>4.0</td>\n",
              "      <td>75.0</td>\n",
              "      <td>0.0</td>\n",
              "      <td>0.0</td>\n",
              "      <td>15.0</td>\n",
              "      <td>346.000000</td>\n",
              "      <td>0.000000</td>\n",
              "      <td>0.021053</td>\n",
              "      <td>0.000000</td>\n",
              "      <td>0.0</td>\n",
              "      <td>Nov</td>\n",
              "      <td>2.0</td>\n",
              "      <td>2.0</td>\n",
              "      <td>3.0</td>\n",
              "      <td>11.0</td>\n",
              "      <td>Returning_Visitor</td>\n",
              "      <td>False</td>\n",
              "      <td>False</td>\n",
              "    </tr>\n",
              "    <tr>\n",
              "      <th>12329</th>\n",
              "      <td>0.0</td>\n",
              "      <td>0.0</td>\n",
              "      <td>0.0</td>\n",
              "      <td>0.0</td>\n",
              "      <td>3.0</td>\n",
              "      <td>21.250000</td>\n",
              "      <td>0.000000</td>\n",
              "      <td>0.066667</td>\n",
              "      <td>0.000000</td>\n",
              "      <td>0.0</td>\n",
              "      <td>Nov</td>\n",
              "      <td>3.0</td>\n",
              "      <td>2.0</td>\n",
              "      <td>1.0</td>\n",
              "      <td>2.0</td>\n",
              "      <td>New_Visitor</td>\n",
              "      <td>True</td>\n",
              "      <td>False</td>\n",
              "    </tr>\n",
              "  </tbody>\n",
              "</table>\n",
              "<p>12330 rows × 18 columns</p>\n",
              "</div>\n",
              "      <button class=\"colab-df-convert\" onclick=\"convertToInteractive('df-bb0e5c0a-fae4-48bd-aeb6-14cb7826b72c')\"\n",
              "              title=\"Convert this dataframe to an interactive table.\"\n",
              "              style=\"display:none;\">\n",
              "        \n",
              "  <svg xmlns=\"http://www.w3.org/2000/svg\" height=\"24px\"viewBox=\"0 0 24 24\"\n",
              "       width=\"24px\">\n",
              "    <path d=\"M0 0h24v24H0V0z\" fill=\"none\"/>\n",
              "    <path d=\"M18.56 5.44l.94 2.06.94-2.06 2.06-.94-2.06-.94-.94-2.06-.94 2.06-2.06.94zm-11 1L8.5 8.5l.94-2.06 2.06-.94-2.06-.94L8.5 2.5l-.94 2.06-2.06.94zm10 10l.94 2.06.94-2.06 2.06-.94-2.06-.94-.94-2.06-.94 2.06-2.06.94z\"/><path d=\"M17.41 7.96l-1.37-1.37c-.4-.4-.92-.59-1.43-.59-.52 0-1.04.2-1.43.59L10.3 9.45l-7.72 7.72c-.78.78-.78 2.05 0 2.83L4 21.41c.39.39.9.59 1.41.59.51 0 1.02-.2 1.41-.59l7.78-7.78 2.81-2.81c.8-.78.8-2.07 0-2.86zM5.41 20L4 18.59l7.72-7.72 1.47 1.35L5.41 20z\"/>\n",
              "  </svg>\n",
              "      </button>\n",
              "      \n",
              "  <style>\n",
              "    .colab-df-container {\n",
              "      display:flex;\n",
              "      flex-wrap:wrap;\n",
              "      gap: 12px;\n",
              "    }\n",
              "\n",
              "    .colab-df-convert {\n",
              "      background-color: #E8F0FE;\n",
              "      border: none;\n",
              "      border-radius: 50%;\n",
              "      cursor: pointer;\n",
              "      display: none;\n",
              "      fill: #1967D2;\n",
              "      height: 32px;\n",
              "      padding: 0 0 0 0;\n",
              "      width: 32px;\n",
              "    }\n",
              "\n",
              "    .colab-df-convert:hover {\n",
              "      background-color: #E2EBFA;\n",
              "      box-shadow: 0px 1px 2px rgba(60, 64, 67, 0.3), 0px 1px 3px 1px rgba(60, 64, 67, 0.15);\n",
              "      fill: #174EA6;\n",
              "    }\n",
              "\n",
              "    [theme=dark] .colab-df-convert {\n",
              "      background-color: #3B4455;\n",
              "      fill: #D2E3FC;\n",
              "    }\n",
              "\n",
              "    [theme=dark] .colab-df-convert:hover {\n",
              "      background-color: #434B5C;\n",
              "      box-shadow: 0px 1px 3px 1px rgba(0, 0, 0, 0.15);\n",
              "      filter: drop-shadow(0px 1px 2px rgba(0, 0, 0, 0.3));\n",
              "      fill: #FFFFFF;\n",
              "    }\n",
              "  </style>\n",
              "\n",
              "      <script>\n",
              "        const buttonEl =\n",
              "          document.querySelector('#df-bb0e5c0a-fae4-48bd-aeb6-14cb7826b72c button.colab-df-convert');\n",
              "        buttonEl.style.display =\n",
              "          google.colab.kernel.accessAllowed ? 'block' : 'none';\n",
              "\n",
              "        async function convertToInteractive(key) {\n",
              "          const element = document.querySelector('#df-bb0e5c0a-fae4-48bd-aeb6-14cb7826b72c');\n",
              "          const dataTable =\n",
              "            await google.colab.kernel.invokeFunction('convertToInteractive',\n",
              "                                                     [key], {});\n",
              "          if (!dataTable) return;\n",
              "\n",
              "          const docLinkHtml = 'Like what you see? Visit the ' +\n",
              "            '<a target=\"_blank\" href=https://colab.research.google.com/notebooks/data_table.ipynb>data table notebook</a>'\n",
              "            + ' to learn more about interactive tables.';\n",
              "          element.innerHTML = '';\n",
              "          dataTable['output_type'] = 'display_data';\n",
              "          await google.colab.output.renderOutput(dataTable, element);\n",
              "          const docLink = document.createElement('div');\n",
              "          docLink.innerHTML = docLinkHtml;\n",
              "          element.appendChild(docLink);\n",
              "        }\n",
              "      </script>\n",
              "    </div>\n",
              "  </div>\n",
              "  "
            ],
            "text/plain": [
              "       Administrative  Administrative_Duration  ...  Weekend  Revenue\n",
              "0                 0.0                      0.0  ...    False    False\n",
              "1                 0.0                      0.0  ...    False    False\n",
              "2                 0.0                      0.0  ...    False    False\n",
              "3                 0.0                      0.0  ...    False    False\n",
              "4                 0.0                      NaN  ...     True    False\n",
              "...               ...                      ...  ...      ...      ...\n",
              "12325             3.0                    145.0  ...     True    False\n",
              "12326             0.0                      0.0  ...     True    False\n",
              "12327             0.0                      0.0  ...     True    False\n",
              "12328             4.0                     75.0  ...    False    False\n",
              "12329             0.0                      0.0  ...     True    False\n",
              "\n",
              "[12330 rows x 18 columns]"
            ]
          },
          "metadata": {},
          "execution_count": 3
        }
      ]
    },
    {
      "cell_type": "markdown",
      "source": [
        "Firstly, let's see the **big picture** of the whole data"
      ],
      "metadata": {
        "id": "MZy0KYqUFFtB"
      }
    },
    {
      "cell_type": "code",
      "source": [
        "df.shape"
      ],
      "metadata": {
        "id": "g7sPAWv5ewei",
        "colab": {
          "base_uri": "https://localhost:8080/"
        },
        "outputId": "9e748c3b-ca3d-4ceb-c7f4-8b5bb554334e"
      },
      "execution_count": null,
      "outputs": [
        {
          "output_type": "execute_result",
          "data": {
            "text/plain": [
              "(12330, 18)"
            ]
          },
          "metadata": {},
          "execution_count": 4
        }
      ]
    },
    {
      "cell_type": "code",
      "source": [
        "df.info()"
      ],
      "metadata": {
        "id": "dvHtYTTIex_l",
        "colab": {
          "base_uri": "https://localhost:8080/"
        },
        "outputId": "a20d2969-ae5e-4667-ac6a-bcb10ef25134"
      },
      "execution_count": null,
      "outputs": [
        {
          "output_type": "stream",
          "name": "stdout",
          "text": [
            "<class 'pandas.core.frame.DataFrame'>\n",
            "RangeIndex: 12330 entries, 0 to 12329\n",
            "Data columns (total 18 columns):\n",
            " #   Column                   Non-Null Count  Dtype  \n",
            "---  ------                   --------------  -----  \n",
            " 0   Administrative           12215 non-null  float64\n",
            " 1   Administrative_Duration  12225 non-null  float64\n",
            " 2   Informational            12196 non-null  float64\n",
            " 3   Informational_Duration   12204 non-null  float64\n",
            " 4   ProductRelated           12196 non-null  float64\n",
            " 5   ProductRelated_Duration  12191 non-null  float64\n",
            " 6   BounceRates              12216 non-null  float64\n",
            " 7   ExitRates                12208 non-null  float64\n",
            " 8   PageValues               12222 non-null  float64\n",
            " 9   SpecialDay               12201 non-null  float64\n",
            " 10  Month                    12212 non-null  object \n",
            " 11  OperatingSystems         12214 non-null  float64\n",
            " 12  Browser                  12218 non-null  float64\n",
            " 13  Region                   12204 non-null  float64\n",
            " 14  TrafficType              12179 non-null  float64\n",
            " 15  VisitorType              12214 non-null  object \n",
            " 16  Weekend                  12199 non-null  object \n",
            " 17  Revenue                  12330 non-null  bool   \n",
            "dtypes: bool(1), float64(14), object(3)\n",
            "memory usage: 1.6+ MB\n"
          ]
        }
      ]
    },
    {
      "cell_type": "markdown",
      "source": [
        "#Attribute Information"
      ],
      "metadata": {
        "id": "0L1lOKvLfK2Q"
      }
    },
    {
      "cell_type": "markdown",
      "source": [
        "Now let's see what information each of the **attributes** gives us:\n",
        "\n",
        "Numerical Data:\n",
        "\n",
        "1.   Administrative\n",
        "2.   Administrative Duration\n",
        "1.   Informational\n",
        "1.   Informational Duration\n",
        "1.   Products Related\n",
        "2.   products Related Duration\t\n",
        "2.   Bounce Rate\n",
        "2.   Exit Rate\n",
        "1.   Page Value\n",
        "2.   Special Day\n",
        "\n",
        "Categorical Data:\n",
        "\n",
        "1.   Operating Systems\t\n",
        "2.   Browser\n",
        "1.   Region\n",
        "1.   TrafficType\n",
        "2.   VisitorType\n",
        "2.   Weekend\n",
        "1.   Month\n",
        "2.   Revenue\n",
        "\n",
        "\n",
        "\n",
        "\n",
        "\n",
        "\n",
        "\n",
        "\n",
        "\n",
        "\n",
        "\n",
        "\n",
        "\n",
        "\n",
        "\n",
        "\n",
        "\n"
      ],
      "metadata": {
        "id": "e8pX-8HzFZCv"
      }
    },
    {
      "cell_type": "code",
      "source": [
        "df.describe()"
      ],
      "metadata": {
        "colab": {
          "base_uri": "https://localhost:8080/",
          "height": 364
        },
        "id": "P14s8wc7Eqbs",
        "outputId": "c310d021-bae4-4fb9-eef2-6acbbef2b329"
      },
      "execution_count": null,
      "outputs": [
        {
          "output_type": "execute_result",
          "data": {
            "text/html": [
              "\n",
              "  <div id=\"df-3278717b-1812-4cdf-b74c-02eec96bd452\">\n",
              "    <div class=\"colab-df-container\">\n",
              "      <div>\n",
              "<style scoped>\n",
              "    .dataframe tbody tr th:only-of-type {\n",
              "        vertical-align: middle;\n",
              "    }\n",
              "\n",
              "    .dataframe tbody tr th {\n",
              "        vertical-align: top;\n",
              "    }\n",
              "\n",
              "    .dataframe thead th {\n",
              "        text-align: right;\n",
              "    }\n",
              "</style>\n",
              "<table border=\"1\" class=\"dataframe\">\n",
              "  <thead>\n",
              "    <tr style=\"text-align: right;\">\n",
              "      <th></th>\n",
              "      <th>Administrative</th>\n",
              "      <th>Administrative_Duration</th>\n",
              "      <th>Informational</th>\n",
              "      <th>Informational_Duration</th>\n",
              "      <th>ProductRelated</th>\n",
              "      <th>ProductRelated_Duration</th>\n",
              "      <th>BounceRates</th>\n",
              "      <th>ExitRates</th>\n",
              "      <th>PageValues</th>\n",
              "      <th>SpecialDay</th>\n",
              "      <th>OperatingSystems</th>\n",
              "      <th>Browser</th>\n",
              "      <th>Region</th>\n",
              "      <th>TrafficType</th>\n",
              "    </tr>\n",
              "  </thead>\n",
              "  <tbody>\n",
              "    <tr>\n",
              "      <th>count</th>\n",
              "      <td>12215.000000</td>\n",
              "      <td>12225.000000</td>\n",
              "      <td>12196.000000</td>\n",
              "      <td>12204.000000</td>\n",
              "      <td>12196.000000</td>\n",
              "      <td>12191.000000</td>\n",
              "      <td>12216.000000</td>\n",
              "      <td>12208.000000</td>\n",
              "      <td>12222.000000</td>\n",
              "      <td>12201.000000</td>\n",
              "      <td>12214.000000</td>\n",
              "      <td>12218.000000</td>\n",
              "      <td>12204.000000</td>\n",
              "      <td>12179.000000</td>\n",
              "    </tr>\n",
              "    <tr>\n",
              "      <th>mean</th>\n",
              "      <td>2.315759</td>\n",
              "      <td>80.741179</td>\n",
              "      <td>0.502706</td>\n",
              "      <td>34.733067</td>\n",
              "      <td>31.814447</td>\n",
              "      <td>1192.220406</td>\n",
              "      <td>0.022231</td>\n",
              "      <td>0.043050</td>\n",
              "      <td>5.869171</td>\n",
              "      <td>0.061011</td>\n",
              "      <td>2.124857</td>\n",
              "      <td>2.358324</td>\n",
              "      <td>3.146673</td>\n",
              "      <td>4.069464</td>\n",
              "    </tr>\n",
              "    <tr>\n",
              "      <th>std</th>\n",
              "      <td>3.319969</td>\n",
              "      <td>176.660783</td>\n",
              "      <td>1.271342</td>\n",
              "      <td>141.364602</td>\n",
              "      <td>44.607472</td>\n",
              "      <td>1905.738105</td>\n",
              "      <td>0.048569</td>\n",
              "      <td>0.048543</td>\n",
              "      <td>18.545277</td>\n",
              "      <td>0.198111</td>\n",
              "      <td>0.912112</td>\n",
              "      <td>1.716343</td>\n",
              "      <td>2.401164</td>\n",
              "      <td>4.030383</td>\n",
              "    </tr>\n",
              "    <tr>\n",
              "      <th>min</th>\n",
              "      <td>0.000000</td>\n",
              "      <td>0.000000</td>\n",
              "      <td>0.000000</td>\n",
              "      <td>0.000000</td>\n",
              "      <td>0.000000</td>\n",
              "      <td>0.000000</td>\n",
              "      <td>0.000000</td>\n",
              "      <td>0.000000</td>\n",
              "      <td>0.000000</td>\n",
              "      <td>0.000000</td>\n",
              "      <td>1.000000</td>\n",
              "      <td>1.000000</td>\n",
              "      <td>1.000000</td>\n",
              "      <td>1.000000</td>\n",
              "    </tr>\n",
              "    <tr>\n",
              "      <th>25%</th>\n",
              "      <td>0.000000</td>\n",
              "      <td>0.000000</td>\n",
              "      <td>0.000000</td>\n",
              "      <td>0.000000</td>\n",
              "      <td>7.000000</td>\n",
              "      <td>184.050000</td>\n",
              "      <td>0.000000</td>\n",
              "      <td>0.014286</td>\n",
              "      <td>0.000000</td>\n",
              "      <td>0.000000</td>\n",
              "      <td>2.000000</td>\n",
              "      <td>2.000000</td>\n",
              "      <td>1.000000</td>\n",
              "      <td>2.000000</td>\n",
              "    </tr>\n",
              "    <tr>\n",
              "      <th>50%</th>\n",
              "      <td>1.000000</td>\n",
              "      <td>7.000000</td>\n",
              "      <td>0.000000</td>\n",
              "      <td>0.000000</td>\n",
              "      <td>18.000000</td>\n",
              "      <td>598.450000</td>\n",
              "      <td>0.003098</td>\n",
              "      <td>0.025183</td>\n",
              "      <td>0.000000</td>\n",
              "      <td>0.000000</td>\n",
              "      <td>2.000000</td>\n",
              "      <td>2.000000</td>\n",
              "      <td>3.000000</td>\n",
              "      <td>2.000000</td>\n",
              "    </tr>\n",
              "    <tr>\n",
              "      <th>75%</th>\n",
              "      <td>4.000000</td>\n",
              "      <td>92.750000</td>\n",
              "      <td>0.000000</td>\n",
              "      <td>0.000000</td>\n",
              "      <td>38.000000</td>\n",
              "      <td>1464.986002</td>\n",
              "      <td>0.016667</td>\n",
              "      <td>0.050000</td>\n",
              "      <td>0.000000</td>\n",
              "      <td>0.000000</td>\n",
              "      <td>3.000000</td>\n",
              "      <td>2.000000</td>\n",
              "      <td>4.000000</td>\n",
              "      <td>4.000000</td>\n",
              "    </tr>\n",
              "    <tr>\n",
              "      <th>max</th>\n",
              "      <td>27.000000</td>\n",
              "      <td>3398.750000</td>\n",
              "      <td>24.000000</td>\n",
              "      <td>2549.375000</td>\n",
              "      <td>705.000000</td>\n",
              "      <td>63973.522230</td>\n",
              "      <td>0.200000</td>\n",
              "      <td>0.200000</td>\n",
              "      <td>361.763742</td>\n",
              "      <td>1.000000</td>\n",
              "      <td>8.000000</td>\n",
              "      <td>13.000000</td>\n",
              "      <td>9.000000</td>\n",
              "      <td>20.000000</td>\n",
              "    </tr>\n",
              "  </tbody>\n",
              "</table>\n",
              "</div>\n",
              "      <button class=\"colab-df-convert\" onclick=\"convertToInteractive('df-3278717b-1812-4cdf-b74c-02eec96bd452')\"\n",
              "              title=\"Convert this dataframe to an interactive table.\"\n",
              "              style=\"display:none;\">\n",
              "        \n",
              "  <svg xmlns=\"http://www.w3.org/2000/svg\" height=\"24px\"viewBox=\"0 0 24 24\"\n",
              "       width=\"24px\">\n",
              "    <path d=\"M0 0h24v24H0V0z\" fill=\"none\"/>\n",
              "    <path d=\"M18.56 5.44l.94 2.06.94-2.06 2.06-.94-2.06-.94-.94-2.06-.94 2.06-2.06.94zm-11 1L8.5 8.5l.94-2.06 2.06-.94-2.06-.94L8.5 2.5l-.94 2.06-2.06.94zm10 10l.94 2.06.94-2.06 2.06-.94-2.06-.94-.94-2.06-.94 2.06-2.06.94z\"/><path d=\"M17.41 7.96l-1.37-1.37c-.4-.4-.92-.59-1.43-.59-.52 0-1.04.2-1.43.59L10.3 9.45l-7.72 7.72c-.78.78-.78 2.05 0 2.83L4 21.41c.39.39.9.59 1.41.59.51 0 1.02-.2 1.41-.59l7.78-7.78 2.81-2.81c.8-.78.8-2.07 0-2.86zM5.41 20L4 18.59l7.72-7.72 1.47 1.35L5.41 20z\"/>\n",
              "  </svg>\n",
              "      </button>\n",
              "      \n",
              "  <style>\n",
              "    .colab-df-container {\n",
              "      display:flex;\n",
              "      flex-wrap:wrap;\n",
              "      gap: 12px;\n",
              "    }\n",
              "\n",
              "    .colab-df-convert {\n",
              "      background-color: #E8F0FE;\n",
              "      border: none;\n",
              "      border-radius: 50%;\n",
              "      cursor: pointer;\n",
              "      display: none;\n",
              "      fill: #1967D2;\n",
              "      height: 32px;\n",
              "      padding: 0 0 0 0;\n",
              "      width: 32px;\n",
              "    }\n",
              "\n",
              "    .colab-df-convert:hover {\n",
              "      background-color: #E2EBFA;\n",
              "      box-shadow: 0px 1px 2px rgba(60, 64, 67, 0.3), 0px 1px 3px 1px rgba(60, 64, 67, 0.15);\n",
              "      fill: #174EA6;\n",
              "    }\n",
              "\n",
              "    [theme=dark] .colab-df-convert {\n",
              "      background-color: #3B4455;\n",
              "      fill: #D2E3FC;\n",
              "    }\n",
              "\n",
              "    [theme=dark] .colab-df-convert:hover {\n",
              "      background-color: #434B5C;\n",
              "      box-shadow: 0px 1px 3px 1px rgba(0, 0, 0, 0.15);\n",
              "      filter: drop-shadow(0px 1px 2px rgba(0, 0, 0, 0.3));\n",
              "      fill: #FFFFFF;\n",
              "    }\n",
              "  </style>\n",
              "\n",
              "      <script>\n",
              "        const buttonEl =\n",
              "          document.querySelector('#df-3278717b-1812-4cdf-b74c-02eec96bd452 button.colab-df-convert');\n",
              "        buttonEl.style.display =\n",
              "          google.colab.kernel.accessAllowed ? 'block' : 'none';\n",
              "\n",
              "        async function convertToInteractive(key) {\n",
              "          const element = document.querySelector('#df-3278717b-1812-4cdf-b74c-02eec96bd452');\n",
              "          const dataTable =\n",
              "            await google.colab.kernel.invokeFunction('convertToInteractive',\n",
              "                                                     [key], {});\n",
              "          if (!dataTable) return;\n",
              "\n",
              "          const docLinkHtml = 'Like what you see? Visit the ' +\n",
              "            '<a target=\"_blank\" href=https://colab.research.google.com/notebooks/data_table.ipynb>data table notebook</a>'\n",
              "            + ' to learn more about interactive tables.';\n",
              "          element.innerHTML = '';\n",
              "          dataTable['output_type'] = 'display_data';\n",
              "          await google.colab.output.renderOutput(dataTable, element);\n",
              "          const docLink = document.createElement('div');\n",
              "          docLink.innerHTML = docLinkHtml;\n",
              "          element.appendChild(docLink);\n",
              "        }\n",
              "      </script>\n",
              "    </div>\n",
              "  </div>\n",
              "  "
            ],
            "text/plain": [
              "       Administrative  Administrative_Duration  ...        Region   TrafficType\n",
              "count    12215.000000             12225.000000  ...  12204.000000  12179.000000\n",
              "mean         2.315759                80.741179  ...      3.146673      4.069464\n",
              "std          3.319969               176.660783  ...      2.401164      4.030383\n",
              "min          0.000000                 0.000000  ...      1.000000      1.000000\n",
              "25%          0.000000                 0.000000  ...      1.000000      2.000000\n",
              "50%          1.000000                 7.000000  ...      3.000000      2.000000\n",
              "75%          4.000000                92.750000  ...      4.000000      4.000000\n",
              "max         27.000000              3398.750000  ...      9.000000     20.000000\n",
              "\n",
              "[8 rows x 14 columns]"
            ]
          },
          "metadata": {},
          "execution_count": 6
        }
      ]
    },
    {
      "cell_type": "markdown",
      "source": [
        "#Handling Missing Values"
      ],
      "metadata": {
        "id": "nsjdsxNTKHch"
      }
    },
    {
      "cell_type": "code",
      "source": [
        "pd.isnull(np.nan)"
      ],
      "metadata": {
        "id": "kk4nZ1ifezPC",
        "colab": {
          "base_uri": "https://localhost:8080/"
        },
        "outputId": "05e9b420-e00d-4880-ea84-e0ce0cf1c38b"
      },
      "execution_count": null,
      "outputs": [
        {
          "output_type": "execute_result",
          "data": {
            "text/plain": [
              "True"
            ]
          },
          "metadata": {},
          "execution_count": 7
        }
      ]
    },
    {
      "cell_type": "code",
      "source": [
        "df.isnull().sum()"
      ],
      "metadata": {
        "colab": {
          "base_uri": "https://localhost:8080/"
        },
        "id": "SEn83nhOKTlU",
        "outputId": "b235c6e5-953a-4fdb-b024-4f35ad7f7704"
      },
      "execution_count": null,
      "outputs": [
        {
          "output_type": "execute_result",
          "data": {
            "text/plain": [
              "Administrative             115\n",
              "Administrative_Duration    105\n",
              "Informational              134\n",
              "Informational_Duration     126\n",
              "ProductRelated             134\n",
              "ProductRelated_Duration    139\n",
              "BounceRates                114\n",
              "ExitRates                  122\n",
              "PageValues                 108\n",
              "SpecialDay                 129\n",
              "Month                      118\n",
              "OperatingSystems           116\n",
              "Browser                    112\n",
              "Region                     126\n",
              "TrafficType                151\n",
              "VisitorType                116\n",
              "Weekend                    131\n",
              "Revenue                      0\n",
              "dtype: int64"
            ]
          },
          "metadata": {},
          "execution_count": 8
        }
      ]
    },
    {
      "cell_type": "markdown",
      "source": [
        "As It Turns Out, We Have a Series of **Missing Values**. To Handle This Problem, We Can Use Random Numbers or The Mode of Data. Hence, In This Project, **Mode** is Used."
      ],
      "metadata": {
        "id": "hOyvwI5XFEGz"
      }
    },
    {
      "cell_type": "markdown",
      "source": [
        "For **Numerical** Type"
      ],
      "metadata": {
        "id": "EdtCMLkFK5UV"
      }
    },
    {
      "cell_type": "code",
      "source": [
        "df.select_dtypes(include=(['int64', 'float64'])).isna().sum()"
      ],
      "metadata": {
        "id": "hWAG2lYqLv6L",
        "colab": {
          "base_uri": "https://localhost:8080/"
        },
        "outputId": "dfc0ed6e-9e12-4cda-d8f5-7b38dcd598cc"
      },
      "execution_count": null,
      "outputs": [
        {
          "output_type": "execute_result",
          "data": {
            "text/plain": [
              "Administrative             115\n",
              "Administrative_Duration    105\n",
              "Informational              134\n",
              "Informational_Duration     126\n",
              "ProductRelated             134\n",
              "ProductRelated_Duration    139\n",
              "BounceRates                114\n",
              "ExitRates                  122\n",
              "PageValues                 108\n",
              "SpecialDay                 129\n",
              "OperatingSystems           116\n",
              "Browser                    112\n",
              "Region                     126\n",
              "TrafficType                151\n",
              "dtype: int64"
            ]
          },
          "metadata": {},
          "execution_count": 9
        }
      ]
    },
    {
      "cell_type": "code",
      "source": [
        "df.select_dtypes(include=(['int64', 'float64'])).isna().sum()\n",
        "df_num_col = df.select_dtypes(include=(['int64', 'float64'])).columns\n",
        "for c in df_num_col:\n",
        "    df[c].fillna(df[c].mode()[0], inplace=True)"
      ],
      "metadata": {
        "id": "i9svaJH2FGWE"
      },
      "execution_count": null,
      "outputs": []
    },
    {
      "cell_type": "code",
      "source": [
        "df.select_dtypes(include=(['int64', 'float64'])).isna().sum()"
      ],
      "metadata": {
        "colab": {
          "base_uri": "https://localhost:8080/"
        },
        "id": "yFSupc49FKfp",
        "outputId": "b00b3562-2081-403e-824c-db01b7f1b79c"
      },
      "execution_count": null,
      "outputs": [
        {
          "output_type": "execute_result",
          "data": {
            "text/plain": [
              "Administrative             0\n",
              "Administrative_Duration    0\n",
              "Informational              0\n",
              "Informational_Duration     0\n",
              "ProductRelated             0\n",
              "ProductRelated_Duration    0\n",
              "BounceRates                0\n",
              "ExitRates                  0\n",
              "PageValues                 0\n",
              "SpecialDay                 0\n",
              "OperatingSystems           0\n",
              "Browser                    0\n",
              "Region                     0\n",
              "TrafficType                0\n",
              "dtype: int64"
            ]
          },
          "metadata": {},
          "execution_count": 11
        }
      ]
    },
    {
      "cell_type": "markdown",
      "source": [
        "For **Categorical** Type"
      ],
      "metadata": {
        "id": "t1DQq5DBFNkj"
      }
    },
    {
      "cell_type": "code",
      "source": [
        "df.select_dtypes(include=('object','bool')).isna().sum()"
      ],
      "metadata": {
        "colab": {
          "base_uri": "https://localhost:8080/"
        },
        "id": "tVw7umjGFKiT",
        "outputId": "3a5ba78b-0c76-4e64-aea8-1609d117802d"
      },
      "execution_count": null,
      "outputs": [
        {
          "output_type": "execute_result",
          "data": {
            "text/plain": [
              "Month          118\n",
              "VisitorType    116\n",
              "Weekend        131\n",
              "Revenue          0\n",
              "dtype: int64"
            ]
          },
          "metadata": {},
          "execution_count": 12
        }
      ]
    },
    {
      "cell_type": "code",
      "source": [
        "df_cat_col = df.select_dtypes(include=('object')).columns\n",
        "for c in df_cat_col:\n",
        "    df[c].fillna(df[c].mode().values[0], inplace=True)\n",
        "    "
      ],
      "metadata": {
        "id": "aLlwdiYmFKkz"
      },
      "execution_count": null,
      "outputs": []
    },
    {
      "cell_type": "code",
      "source": [
        "df.select_dtypes(include=('object','bool')).isna().sum()"
      ],
      "metadata": {
        "colab": {
          "base_uri": "https://localhost:8080/"
        },
        "id": "Xmhp2DWmFKnd",
        "outputId": "3e4fde59-3606-4dc5-dd98-c0ea2e64998f"
      },
      "execution_count": null,
      "outputs": [
        {
          "output_type": "execute_result",
          "data": {
            "text/plain": [
              "Month          0\n",
              "VisitorType    0\n",
              "Weekend        0\n",
              "Revenue        0\n",
              "dtype: int64"
            ]
          },
          "metadata": {},
          "execution_count": 14
        }
      ]
    },
    {
      "cell_type": "markdown",
      "source": [
        "#Exploratory Data Analysis "
      ],
      "metadata": {
        "id": "3Xh1l79gFTYe"
      }
    },
    {
      "cell_type": "markdown",
      "source": [
        "Now Let's **Look out Deeper** In Our Dataset"
      ],
      "metadata": {
        "id": "1kwgvy9AFWH5"
      }
    },
    {
      "cell_type": "code",
      "source": [
        "df['OperatingSystems'].value_counts()"
      ],
      "metadata": {
        "colab": {
          "base_uri": "https://localhost:8080/"
        },
        "id": "en2myHq9FKqY",
        "outputId": "74e6f997-b7d8-4cfd-dde5-1e976a996525"
      },
      "execution_count": null,
      "outputs": [
        {
          "output_type": "execute_result",
          "data": {
            "text/plain": [
              "2.0    6661\n",
              "1.0    2554\n",
              "3.0    2532\n",
              "4.0     472\n",
              "8.0      79\n",
              "6.0      19\n",
              "7.0       7\n",
              "5.0       6\n",
              "Name: OperatingSystems, dtype: int64"
            ]
          },
          "metadata": {},
          "execution_count": 15
        }
      ]
    },
    {
      "cell_type": "code",
      "source": [
        "df['Browser'].value_counts()"
      ],
      "metadata": {
        "colab": {
          "base_uri": "https://localhost:8080/"
        },
        "id": "DnzP0t8bFKsm",
        "outputId": "cde45a6c-6eb3-4a7a-eea8-538758b85f21"
      },
      "execution_count": null,
      "outputs": [
        {
          "output_type": "execute_result",
          "data": {
            "text/plain": [
              "2.0     8006\n",
              "1.0     2431\n",
              "4.0      731\n",
              "5.0      463\n",
              "6.0      174\n",
              "10.0     161\n",
              "8.0      134\n",
              "3.0      104\n",
              "13.0      60\n",
              "7.0       49\n",
              "12.0      10\n",
              "11.0       6\n",
              "9.0        1\n",
              "Name: Browser, dtype: int64"
            ]
          },
          "metadata": {},
          "execution_count": 16
        }
      ]
    },
    {
      "cell_type": "code",
      "source": [
        "df['Region'].value_counts()"
      ],
      "metadata": {
        "colab": {
          "base_uri": "https://localhost:8080/"
        },
        "id": "WTPRLgjkFKvR",
        "outputId": "78a58a96-efd9-464b-8908-fe48da5d3902"
      },
      "execution_count": null,
      "outputs": [
        {
          "output_type": "execute_result",
          "data": {
            "text/plain": [
              "1.0    4859\n",
              "3.0    2373\n",
              "4.0    1170\n",
              "2.0    1127\n",
              "6.0     798\n",
              "7.0     755\n",
              "9.0     504\n",
              "8.0     429\n",
              "5.0     315\n",
              "Name: Region, dtype: int64"
            ]
          },
          "metadata": {},
          "execution_count": 17
        }
      ]
    },
    {
      "cell_type": "code",
      "source": [
        "df['TrafficType'].value_counts()"
      ],
      "metadata": {
        "colab": {
          "base_uri": "https://localhost:8080/"
        },
        "id": "05lUR1ciFKx8",
        "outputId": "79f30ba5-dcbb-4a68-f65a-09dc5cc04748"
      },
      "execution_count": null,
      "outputs": [
        {
          "output_type": "execute_result",
          "data": {
            "text/plain": [
              "2.0     4020\n",
              "1.0     2426\n",
              "3.0     2020\n",
              "4.0     1054\n",
              "13.0     725\n",
              "10.0     444\n",
              "6.0      441\n",
              "8.0      336\n",
              "5.0      257\n",
              "11.0     245\n",
              "20.0     198\n",
              "9.0       42\n",
              "7.0       39\n",
              "15.0      38\n",
              "19.0      17\n",
              "14.0      13\n",
              "18.0      10\n",
              "16.0       3\n",
              "12.0       1\n",
              "17.0       1\n",
              "Name: TrafficType, dtype: int64"
            ]
          },
          "metadata": {},
          "execution_count": 18
        }
      ]
    },
    {
      "cell_type": "code",
      "source": [
        "df['VisitorType'].value_counts()"
      ],
      "metadata": {
        "colab": {
          "base_uri": "https://localhost:8080/"
        },
        "id": "qK4qj8IaFK0f",
        "outputId": "fefef7ed-63e5-46e5-8609-57e0931a5370"
      },
      "execution_count": null,
      "outputs": [
        {
          "output_type": "execute_result",
          "data": {
            "text/plain": [
              "Returning_Visitor    10563\n",
              "New_Visitor           1682\n",
              "Other                   85\n",
              "Name: VisitorType, dtype: int64"
            ]
          },
          "metadata": {},
          "execution_count": 19
        }
      ]
    },
    {
      "cell_type": "code",
      "source": [
        "df['Weekend'].value_counts()"
      ],
      "metadata": {
        "colab": {
          "base_uri": "https://localhost:8080/"
        },
        "id": "qVJ907N8FK3E",
        "outputId": "2db209ef-4753-45bf-ac24-5e926ab84654"
      },
      "execution_count": null,
      "outputs": [
        {
          "output_type": "execute_result",
          "data": {
            "text/plain": [
              "False    9486\n",
              "True     2844\n",
              "Name: Weekend, dtype: int64"
            ]
          },
          "metadata": {},
          "execution_count": 20
        }
      ]
    },
    {
      "cell_type": "code",
      "source": [
        "df['Month'].value_counts()"
      ],
      "metadata": {
        "colab": {
          "base_uri": "https://localhost:8080/"
        },
        "id": "Rfsn8loeFK59",
        "outputId": "2c954c0d-4a94-48d0-8551-4b897ebd5569"
      },
      "execution_count": null,
      "outputs": [
        {
          "output_type": "execute_result",
          "data": {
            "text/plain": [
              "May     3447\n",
              "Nov     2969\n",
              "Mar     1889\n",
              "Dec     1710\n",
              "Oct      545\n",
              "Sep      445\n",
              "Aug      431\n",
              "Jul      428\n",
              "June     285\n",
              "Feb      181\n",
              "Name: Month, dtype: int64"
            ]
          },
          "metadata": {},
          "execution_count": 21
        }
      ]
    },
    {
      "cell_type": "code",
      "source": [
        "df['Revenue'].value_counts()"
      ],
      "metadata": {
        "colab": {
          "base_uri": "https://localhost:8080/"
        },
        "id": "LQtrdqILR_QO",
        "outputId": "248cbe84-81e0-4082-9f3b-7405dc5892bd"
      },
      "execution_count": null,
      "outputs": [
        {
          "output_type": "execute_result",
          "data": {
            "text/plain": [
              "False    10422\n",
              "True      1908\n",
              "Name: Revenue, dtype: int64"
            ]
          },
          "metadata": {},
          "execution_count": 22
        }
      ]
    },
    {
      "cell_type": "markdown",
      "source": [
        "As it turns out, evantually, we need to transform them with **One hot encodeing method.**"
      ],
      "metadata": {
        "id": "kalZOupijrFU"
      }
    },
    {
      "cell_type": "markdown",
      "source": [
        "#Data Visualization"
      ],
      "metadata": {
        "id": "ELLZsOLaFgUy"
      }
    },
    {
      "cell_type": "markdown",
      "source": [
        "Let's start the visualization to figure out the **correlations** of our features. "
      ],
      "metadata": {
        "id": "W4ON9kMRjdpb"
      }
    },
    {
      "cell_type": "code",
      "source": [
        "plt.figure(figsize=(15,11))\n",
        "sns.heatmap(df.corr(), annot=True, cmap=\"RdBu\")\n",
        "plt.title(\"Correlations Between Variables\", size=15)\n",
        "plt.show()"
      ],
      "metadata": {
        "colab": {
          "base_uri": "https://localhost:8080/",
          "height": 777
        },
        "id": "iO5UJwXFFK8j",
        "outputId": "a6e5fe1f-02be-4605-ddf5-d0b6c0721d6b"
      },
      "execution_count": null,
      "outputs": [
        {
          "output_type": "display_data",
          "data": {
            "image/png": "[encoded data removed]",
            "text/plain": [
              "<Figure size 1080x792 with 2 Axes>"
            ]
          },
          "metadata": {
            "needs_background": "light"
          }
        }
      ]
    },
    {
      "cell_type": "code",
      "source": [
        "corr = df.corr()\n",
        "corr"
      ],
      "metadata": {
        "colab": {
          "base_uri": "https://localhost:8080/",
          "height": 614
        },
        "id": "XzuOJjPiFK_L",
        "outputId": "88e84ac8-0817-4154-fc2b-3d468ec81019"
      },
      "execution_count": null,
      "outputs": [
        {
          "output_type": "execute_result",
          "data": {
            "text/html": [
              "\n",
              "  <div id=\"df-e1e18375-132a-43bd-a6ff-05beef14568e\">\n",
              "    <div class=\"colab-df-container\">\n",
              "      <div>\n",
              "<style scoped>\n",
              "    .dataframe tbody tr th:only-of-type {\n",
              "        vertical-align: middle;\n",
              "    }\n",
              "\n",
              "    .dataframe tbody tr th {\n",
              "        vertical-align: top;\n",
              "    }\n",
              "\n",
              "    .dataframe thead th {\n",
              "        text-align: right;\n",
              "    }\n",
              "</style>\n",
              "<table border=\"1\" class=\"dataframe\">\n",
              "  <thead>\n",
              "    <tr style=\"text-align: right;\">\n",
              "      <th></th>\n",
              "      <th>Administrative</th>\n",
              "      <th>Administrative_Duration</th>\n",
              "      <th>Informational</th>\n",
              "      <th>Informational_Duration</th>\n",
              "      <th>ProductRelated</th>\n",
              "      <th>ProductRelated_Duration</th>\n",
              "      <th>BounceRates</th>\n",
              "      <th>ExitRates</th>\n",
              "      <th>PageValues</th>\n",
              "      <th>SpecialDay</th>\n",
              "      <th>OperatingSystems</th>\n",
              "      <th>Browser</th>\n",
              "      <th>Region</th>\n",
              "      <th>TrafficType</th>\n",
              "      <th>Weekend</th>\n",
              "      <th>Revenue</th>\n",
              "    </tr>\n",
              "  </thead>\n",
              "  <tbody>\n",
              "    <tr>\n",
              "      <th>Administrative</th>\n",
              "      <td>1.000000</td>\n",
              "      <td>0.594034</td>\n",
              "      <td>0.371631</td>\n",
              "      <td>0.254644</td>\n",
              "      <td>0.427115</td>\n",
              "      <td>0.369226</td>\n",
              "      <td>-0.221287</td>\n",
              "      <td>-0.295878</td>\n",
              "      <td>0.100988</td>\n",
              "      <td>-0.094643</td>\n",
              "      <td>-0.006085</td>\n",
              "      <td>-0.024060</td>\n",
              "      <td>-0.004609</td>\n",
              "      <td>-0.032492</td>\n",
              "      <td>0.026591</td>\n",
              "      <td>0.136695</td>\n",
              "    </tr>\n",
              "    <tr>\n",
              "      <th>Administrative_Duration</th>\n",
              "      <td>0.594034</td>\n",
              "      <td>1.000000</td>\n",
              "      <td>0.295091</td>\n",
              "      <td>0.234998</td>\n",
              "      <td>0.283865</td>\n",
              "      <td>0.347129</td>\n",
              "      <td>-0.142778</td>\n",
              "      <td>-0.192579</td>\n",
              "      <td>0.067886</td>\n",
              "      <td>-0.071768</td>\n",
              "      <td>-0.005360</td>\n",
              "      <td>-0.014346</td>\n",
              "      <td>-0.005996</td>\n",
              "      <td>-0.016552</td>\n",
              "      <td>0.015968</td>\n",
              "      <td>0.092043</td>\n",
              "    </tr>\n",
              "    <tr>\n",
              "      <th>Informational</th>\n",
              "      <td>0.371631</td>\n",
              "      <td>0.295091</td>\n",
              "      <td>1.000000</td>\n",
              "      <td>0.606965</td>\n",
              "      <td>0.367248</td>\n",
              "      <td>0.376690</td>\n",
              "      <td>-0.115082</td>\n",
              "      <td>-0.151991</td>\n",
              "      <td>0.046607</td>\n",
              "      <td>-0.048808</td>\n",
              "      <td>-0.010045</td>\n",
              "      <td>-0.039154</td>\n",
              "      <td>-0.030135</td>\n",
              "      <td>-0.033779</td>\n",
              "      <td>0.037708</td>\n",
              "      <td>0.094501</td>\n",
              "    </tr>\n",
              "    <tr>\n",
              "      <th>Informational_Duration</th>\n",
              "      <td>0.254644</td>\n",
              "      <td>0.234998</td>\n",
              "      <td>0.606965</td>\n",
              "      <td>1.000000</td>\n",
              "      <td>0.279988</td>\n",
              "      <td>0.339942</td>\n",
              "      <td>-0.073611</td>\n",
              "      <td>-0.096184</td>\n",
              "      <td>0.030038</td>\n",
              "      <td>-0.031208</td>\n",
              "      <td>-0.008382</td>\n",
              "      <td>-0.020165</td>\n",
              "      <td>-0.028503</td>\n",
              "      <td>-0.025461</td>\n",
              "      <td>0.025262</td>\n",
              "      <td>0.069849</td>\n",
              "    </tr>\n",
              "    <tr>\n",
              "      <th>ProductRelated</th>\n",
              "      <td>0.427115</td>\n",
              "      <td>0.283865</td>\n",
              "      <td>0.367248</td>\n",
              "      <td>0.279988</td>\n",
              "      <td>1.000000</td>\n",
              "      <td>0.843764</td>\n",
              "      <td>-0.202070</td>\n",
              "      <td>-0.278721</td>\n",
              "      <td>0.055766</td>\n",
              "      <td>-0.024860</td>\n",
              "      <td>0.004705</td>\n",
              "      <td>-0.015358</td>\n",
              "      <td>-0.036952</td>\n",
              "      <td>-0.041566</td>\n",
              "      <td>0.017982</td>\n",
              "      <td>0.157071</td>\n",
              "    </tr>\n",
              "    <tr>\n",
              "      <th>ProductRelated_Duration</th>\n",
              "      <td>0.369226</td>\n",
              "      <td>0.347129</td>\n",
              "      <td>0.376690</td>\n",
              "      <td>0.339942</td>\n",
              "      <td>0.843764</td>\n",
              "      <td>1.000000</td>\n",
              "      <td>-0.182721</td>\n",
              "      <td>-0.239686</td>\n",
              "      <td>0.052128</td>\n",
              "      <td>-0.036078</td>\n",
              "      <td>0.003056</td>\n",
              "      <td>-0.009951</td>\n",
              "      <td>-0.031680</td>\n",
              "      <td>-0.035146</td>\n",
              "      <td>0.008268</td>\n",
              "      <td>0.150490</td>\n",
              "    </tr>\n",
              "    <tr>\n",
              "      <th>BounceRates</th>\n",
              "      <td>-0.221287</td>\n",
              "      <td>-0.142778</td>\n",
              "      <td>-0.115082</td>\n",
              "      <td>-0.073611</td>\n",
              "      <td>-0.202070</td>\n",
              "      <td>-0.182721</td>\n",
              "      <td>1.000000</td>\n",
              "      <td>0.862627</td>\n",
              "      <td>-0.118051</td>\n",
              "      <td>0.070763</td>\n",
              "      <td>0.022634</td>\n",
              "      <td>-0.013953</td>\n",
              "      <td>-0.006682</td>\n",
              "      <td>0.077689</td>\n",
              "      <td>-0.045595</td>\n",
              "      <td>-0.149842</td>\n",
              "    </tr>\n",
              "    <tr>\n",
              "      <th>ExitRates</th>\n",
              "      <td>-0.295878</td>\n",
              "      <td>-0.192579</td>\n",
              "      <td>-0.151991</td>\n",
              "      <td>-0.096184</td>\n",
              "      <td>-0.278721</td>\n",
              "      <td>-0.239686</td>\n",
              "      <td>0.862627</td>\n",
              "      <td>1.000000</td>\n",
              "      <td>-0.159886</td>\n",
              "      <td>0.096017</td>\n",
              "      <td>0.009871</td>\n",
              "      <td>-0.006697</td>\n",
              "      <td>-0.009760</td>\n",
              "      <td>0.077992</td>\n",
              "      <td>-0.058765</td>\n",
              "      <td>-0.188658</td>\n",
              "    </tr>\n",
              "    <tr>\n",
              "      <th>PageValues</th>\n",
              "      <td>0.100988</td>\n",
              "      <td>0.067886</td>\n",
              "      <td>0.046607</td>\n",
              "      <td>0.030038</td>\n",
              "      <td>0.055766</td>\n",
              "      <td>0.052128</td>\n",
              "      <td>-0.118051</td>\n",
              "      <td>-0.159886</td>\n",
              "      <td>1.000000</td>\n",
              "      <td>-0.062037</td>\n",
              "      <td>0.020404</td>\n",
              "      <td>0.044501</td>\n",
              "      <td>0.012762</td>\n",
              "      <td>0.012728</td>\n",
              "      <td>0.012447</td>\n",
              "      <td>0.487618</td>\n",
              "    </tr>\n",
              "    <tr>\n",
              "      <th>SpecialDay</th>\n",
              "      <td>-0.094643</td>\n",
              "      <td>-0.071768</td>\n",
              "      <td>-0.048808</td>\n",
              "      <td>-0.031208</td>\n",
              "      <td>-0.024860</td>\n",
              "      <td>-0.036078</td>\n",
              "      <td>0.070763</td>\n",
              "      <td>0.096017</td>\n",
              "      <td>-0.062037</td>\n",
              "      <td>1.000000</td>\n",
              "      <td>0.014378</td>\n",
              "      <td>0.004306</td>\n",
              "      <td>-0.014210</td>\n",
              "      <td>0.053108</td>\n",
              "      <td>-0.019238</td>\n",
              "      <td>-0.080746</td>\n",
              "    </tr>\n",
              "    <tr>\n",
              "      <th>OperatingSystems</th>\n",
              "      <td>-0.006085</td>\n",
              "      <td>-0.005360</td>\n",
              "      <td>-0.010045</td>\n",
              "      <td>-0.008382</td>\n",
              "      <td>0.004705</td>\n",
              "      <td>0.003056</td>\n",
              "      <td>0.022634</td>\n",
              "      <td>0.009871</td>\n",
              "      <td>0.020404</td>\n",
              "      <td>0.014378</td>\n",
              "      <td>1.000000</td>\n",
              "      <td>0.220018</td>\n",
              "      <td>0.071057</td>\n",
              "      <td>0.188731</td>\n",
              "      <td>0.001537</td>\n",
              "      <td>-0.014570</td>\n",
              "    </tr>\n",
              "    <tr>\n",
              "      <th>Browser</th>\n",
              "      <td>-0.024060</td>\n",
              "      <td>-0.014346</td>\n",
              "      <td>-0.039154</td>\n",
              "      <td>-0.020165</td>\n",
              "      <td>-0.015358</td>\n",
              "      <td>-0.009951</td>\n",
              "      <td>-0.013953</td>\n",
              "      <td>-0.006697</td>\n",
              "      <td>0.044501</td>\n",
              "      <td>0.004306</td>\n",
              "      <td>0.220018</td>\n",
              "      <td>1.000000</td>\n",
              "      <td>0.092290</td>\n",
              "      <td>0.113710</td>\n",
              "      <td>-0.038850</td>\n",
              "      <td>0.023429</td>\n",
              "    </tr>\n",
              "    <tr>\n",
              "      <th>Region</th>\n",
              "      <td>-0.004609</td>\n",
              "      <td>-0.005996</td>\n",
              "      <td>-0.030135</td>\n",
              "      <td>-0.028503</td>\n",
              "      <td>-0.036952</td>\n",
              "      <td>-0.031680</td>\n",
              "      <td>-0.006682</td>\n",
              "      <td>-0.009760</td>\n",
              "      <td>0.012762</td>\n",
              "      <td>-0.014210</td>\n",
              "      <td>0.071057</td>\n",
              "      <td>0.092290</td>\n",
              "      <td>1.000000</td>\n",
              "      <td>0.044233</td>\n",
              "      <td>-0.001425</td>\n",
              "      <td>-0.010565</td>\n",
              "    </tr>\n",
              "    <tr>\n",
              "      <th>TrafficType</th>\n",
              "      <td>-0.032492</td>\n",
              "      <td>-0.016552</td>\n",
              "      <td>-0.033779</td>\n",
              "      <td>-0.025461</td>\n",
              "      <td>-0.041566</td>\n",
              "      <td>-0.035146</td>\n",
              "      <td>0.077689</td>\n",
              "      <td>0.077992</td>\n",
              "      <td>0.012728</td>\n",
              "      <td>0.053108</td>\n",
              "      <td>0.188731</td>\n",
              "      <td>0.113710</td>\n",
              "      <td>0.044233</td>\n",
              "      <td>1.000000</td>\n",
              "      <td>-0.001367</td>\n",
              "      <td>-0.004594</td>\n",
              "    </tr>\n",
              "    <tr>\n",
              "      <th>Weekend</th>\n",
              "      <td>0.026591</td>\n",
              "      <td>0.015968</td>\n",
              "      <td>0.037708</td>\n",
              "      <td>0.025262</td>\n",
              "      <td>0.017982</td>\n",
              "      <td>0.008268</td>\n",
              "      <td>-0.045595</td>\n",
              "      <td>-0.058765</td>\n",
              "      <td>0.012447</td>\n",
              "      <td>-0.019238</td>\n",
              "      <td>0.001537</td>\n",
              "      <td>-0.038850</td>\n",
              "      <td>-0.001425</td>\n",
              "      <td>-0.001367</td>\n",
              "      <td>1.000000</td>\n",
              "      <td>0.031359</td>\n",
              "    </tr>\n",
              "    <tr>\n",
              "      <th>Revenue</th>\n",
              "      <td>0.136695</td>\n",
              "      <td>0.092043</td>\n",
              "      <td>0.094501</td>\n",
              "      <td>0.069849</td>\n",
              "      <td>0.157071</td>\n",
              "      <td>0.150490</td>\n",
              "      <td>-0.149842</td>\n",
              "      <td>-0.188658</td>\n",
              "      <td>0.487618</td>\n",
              "      <td>-0.080746</td>\n",
              "      <td>-0.014570</td>\n",
              "      <td>0.023429</td>\n",
              "      <td>-0.010565</td>\n",
              "      <td>-0.004594</td>\n",
              "      <td>0.031359</td>\n",
              "      <td>1.000000</td>\n",
              "    </tr>\n",
              "  </tbody>\n",
              "</table>\n",
              "</div>\n",
              "      <button class=\"colab-df-convert\" onclick=\"convertToInteractive('df-e1e18375-132a-43bd-a6ff-05beef14568e')\"\n",
              "              title=\"Convert this dataframe to an interactive table.\"\n",
              "              style=\"display:none;\">\n",
              "        \n",
              "  <svg xmlns=\"http://www.w3.org/2000/svg\" height=\"24px\"viewBox=\"0 0 24 24\"\n",
              "       width=\"24px\">\n",
              "    <path d=\"M0 0h24v24H0V0z\" fill=\"none\"/>\n",
              "    <path d=\"M18.56 5.44l.94 2.06.94-2.06 2.06-.94-2.06-.94-.94-2.06-.94 2.06-2.06.94zm-11 1L8.5 8.5l.94-2.06 2.06-.94-2.06-.94L8.5 2.5l-.94 2.06-2.06.94zm10 10l.94 2.06.94-2.06 2.06-.94-2.06-.94-.94-2.06-.94 2.06-2.06.94z\"/><path d=\"M17.41 7.96l-1.37-1.37c-.4-.4-.92-.59-1.43-.59-.52 0-1.04.2-1.43.59L10.3 9.45l-7.72 7.72c-.78.78-.78 2.05 0 2.83L4 21.41c.39.39.9.59 1.41.59.51 0 1.02-.2 1.41-.59l7.78-7.78 2.81-2.81c.8-.78.8-2.07 0-2.86zM5.41 20L4 18.59l7.72-7.72 1.47 1.35L5.41 20z\"/>\n",
              "  </svg>\n",
              "      </button>\n",
              "      \n",
              "  <style>\n",
              "    .colab-df-container {\n",
              "      display:flex;\n",
              "      flex-wrap:wrap;\n",
              "      gap: 12px;\n",
              "    }\n",
              "\n",
              "    .colab-df-convert {\n",
              "      background-color: #E8F0FE;\n",
              "      border: none;\n",
              "      border-radius: 50%;\n",
              "      cursor: pointer;\n",
              "      display: none;\n",
              "      fill: #1967D2;\n",
              "      height: 32px;\n",
              "      padding: 0 0 0 0;\n",
              "      width: 32px;\n",
              "    }\n",
              "\n",
              "    .colab-df-convert:hover {\n",
              "      background-color: #E2EBFA;\n",
              "      box-shadow: 0px 1px 2px rgba(60, 64, 67, 0.3), 0px 1px 3px 1px rgba(60, 64, 67, 0.15);\n",
              "      fill: #174EA6;\n",
              "    }\n",
              "\n",
              "    [theme=dark] .colab-df-convert {\n",
              "      background-color: #3B4455;\n",
              "      fill: #D2E3FC;\n",
              "    }\n",
              "\n",
              "    [theme=dark] .colab-df-convert:hover {\n",
              "      background-color: #434B5C;\n",
              "      box-shadow: 0px 1px 3px 1px rgba(0, 0, 0, 0.15);\n",
              "      filter: drop-shadow(0px 1px 2px rgba(0, 0, 0, 0.3));\n",
              "      fill: #FFFFFF;\n",
              "    }\n",
              "  </style>\n",
              "\n",
              "      <script>\n",
              "        const buttonEl =\n",
              "          document.querySelector('#df-e1e18375-132a-43bd-a6ff-05beef14568e button.colab-df-convert');\n",
              "        buttonEl.style.display =\n",
              "          google.colab.kernel.accessAllowed ? 'block' : 'none';\n",
              "\n",
              "        async function convertToInteractive(key) {\n",
              "          const element = document.querySelector('#df-e1e18375-132a-43bd-a6ff-05beef14568e');\n",
              "          const dataTable =\n",
              "            await google.colab.kernel.invokeFunction('convertToInteractive',\n",
              "                                                     [key], {});\n",
              "          if (!dataTable) return;\n",
              "\n",
              "          const docLinkHtml = 'Like what you see? Visit the ' +\n",
              "            '<a target=\"_blank\" href=https://colab.research.google.com/notebooks/data_table.ipynb>data table notebook</a>'\n",
              "            + ' to learn more about interactive tables.';\n",
              "          element.innerHTML = '';\n",
              "          dataTable['output_type'] = 'display_data';\n",
              "          await google.colab.output.renderOutput(dataTable, element);\n",
              "          const docLink = document.createElement('div');\n",
              "          docLink.innerHTML = docLinkHtml;\n",
              "          element.appendChild(docLink);\n",
              "        }\n",
              "      </script>\n",
              "    </div>\n",
              "  </div>\n",
              "  "
            ],
            "text/plain": [
              "                         Administrative  ...   Revenue\n",
              "Administrative                 1.000000  ...  0.136695\n",
              "Administrative_Duration        0.594034  ...  0.092043\n",
              "Informational                  0.371631  ...  0.094501\n",
              "Informational_Duration         0.254644  ...  0.069849\n",
              "ProductRelated                 0.427115  ...  0.157071\n",
              "ProductRelated_Duration        0.369226  ...  0.150490\n",
              "BounceRates                   -0.221287  ... -0.149842\n",
              "ExitRates                     -0.295878  ... -0.188658\n",
              "PageValues                     0.100988  ...  0.487618\n",
              "SpecialDay                    -0.094643  ... -0.080746\n",
              "OperatingSystems              -0.006085  ... -0.014570\n",
              "Browser                       -0.024060  ...  0.023429\n",
              "Region                        -0.004609  ... -0.010565\n",
              "TrafficType                   -0.032492  ... -0.004594\n",
              "Weekend                        0.026591  ...  0.031359\n",
              "Revenue                        0.136695  ...  1.000000\n",
              "\n",
              "[16 rows x 16 columns]"
            ]
          },
          "metadata": {},
          "execution_count": 24
        }
      ]
    },
    {
      "cell_type": "code",
      "source": [
        "corr['Revenue'].sort_values(ascending=False)"
      ],
      "metadata": {
        "colab": {
          "base_uri": "https://localhost:8080/"
        },
        "id": "tq-vldMYyB7Q",
        "outputId": "6ea78f55-d424-40c3-91c9-f282b35c6404"
      },
      "execution_count": null,
      "outputs": [
        {
          "output_type": "execute_result",
          "data": {
            "text/plain": [
              "Revenue                    1.000000\n",
              "PageValues                 0.487618\n",
              "ProductRelated             0.157071\n",
              "ProductRelated_Duration    0.150490\n",
              "Administrative             0.136695\n",
              "Informational              0.094501\n",
              "Administrative_Duration    0.092043\n",
              "Informational_Duration     0.069849\n",
              "Weekend                    0.031359\n",
              "Browser                    0.023429\n",
              "TrafficType               -0.004594\n",
              "Region                    -0.010565\n",
              "OperatingSystems          -0.014570\n",
              "SpecialDay                -0.080746\n",
              "BounceRates               -0.149842\n",
              "ExitRates                 -0.188658\n",
              "Name: Revenue, dtype: float64"
            ]
          },
          "metadata": {},
          "execution_count": 25
        }
      ]
    },
    {
      "cell_type": "code",
      "source": [
        "num_features = ['Administrative', 'Administrative_Duration', 'Informational', 'Informational_Duration', 'ProductRelated', 'ProductRelated_Duration', 'BounceRates', 'ExitRates', 'PageValues', 'SpecialDay']"
      ],
      "metadata": {
        "id": "2-hfrmgHFLCB"
      },
      "execution_count": null,
      "outputs": []
    },
    {
      "cell_type": "code",
      "source": [
        "cat_features = ['Month' ,'OperatingSystems', 'Browser', 'Region', 'TrafficType', 'VisitorType', 'Weekend', 'Revenue']"
      ],
      "metadata": {
        "id": "eXTBy2FhFLE4"
      },
      "execution_count": null,
      "outputs": []
    },
    {
      "cell_type": "code",
      "source": [
        "\n",
        "corr = df[num_features].corr()\n",
        "\n",
        "mask = np.triu(np.ones_like(corr, dtype=bool))\n",
        "\n",
        "plt.figure(figsize=(16, 8))\n",
        "sns.heatmap(corr, mask=mask,  center=0, linewidths=1, annot=True, fmt=\".2f\")\n",
        "\n",
        "plt.show()"
      ],
      "metadata": {
        "colab": {
          "base_uri": "https://localhost:8080/",
          "height": 596
        },
        "id": "qaYK6jK8FLHc",
        "outputId": "92728a76-f34f-4680-d0db-32659e372a14"
      },
      "execution_count": null,
      "outputs": [
        {
          "output_type": "display_data",
          "data": {
            "image/png": "[encoded data removed]",
            "text/plain": [
              "<Figure size 1152x576 with 2 Axes>"
            ]
          },
          "metadata": {
            "needs_background": "light"
          }
        }
      ]
    },
    {
      "cell_type": "code",
      "source": [
        "plt.figure(figsize=(4, 10))\n",
        "newDataFrame = df.copy()\n",
        "newDataFrame['PageValueOverProductRelated'] = newDataFrame['PageValues'] / newDataFrame['ProductRelated']\n",
        "corrMatrix = newDataFrame.corr()\n",
        "sns.heatmap(corrMatrix[['Revenue']]\n",
        "                      .sort_values(by=\"Revenue\", ascending=False), vmin=-1, vmax=1, annot=True)\n",
        "plt.show()"
      ],
      "metadata": {
        "colab": {
          "base_uri": "https://localhost:8080/",
          "height": 595
        },
        "id": "8F_OVV9HzSdx",
        "outputId": "58fdbbb6-a296-47b7-8fca-ad7cdedbec3e"
      },
      "execution_count": null,
      "outputs": [
        {
          "output_type": "display_data",
          "data": {
            "image/png": "[encoded data removed]",
            "text/plain": [
              "<Figure size 288x720 with 2 Axes>"
            ]
          },
          "metadata": {
            "needs_background": "light"
          }
        }
      ]
    },
    {
      "cell_type": "markdown",
      "source": [
        "First we do the **categorical data visualization**:\n",
        "\n",
        "1.   Revenue\n",
        "2.   Weekend\n",
        "3.   Region\n",
        "4.   Month"
      ],
      "metadata": {
        "id": "_u37Q2HiFrkc"
      }
    },
    {
      "cell_type": "markdown",
      "source": [
        "Accordingly, Let's Start With the Generated Revenue"
      ],
      "metadata": {
        "id": "w-e0Rs1WFu4Q"
      }
    },
    {
      "cell_type": "markdown",
      "source": [
        "1) Revenue"
      ],
      "metadata": {
        "id": "3pddR-M9FxzQ"
      }
    },
    {
      "cell_type": "code",
      "source": [
        "sns.set_theme(style=\"darkgrid\")\n",
        "sns.countplot(x = df['Revenue'], palette=\"rocket_r\")\n",
        "plt.title('Distribution of Revenue')\n",
        "plt.show()"
      ],
      "metadata": {
        "colab": {
          "base_uri": "https://localhost:8080/",
          "height": 301
        },
        "id": "TRGFKFHIFLKS",
        "outputId": "17a740e3-3a7b-4616-b723-88950655408b"
      },
      "execution_count": null,
      "outputs": [
        {
          "output_type": "display_data",
          "data": {
            "image/png": "[encoded data removed]",
            "text/plain": [
              "<Figure size 432x288 with 1 Axes>"
            ]
          },
          "metadata": {}
        }
      ]
    },
    {
      "cell_type": "markdown",
      "source": [
        "From The Above Observation There Were Many Visitors In The Shopping Website But Very Few People Have Generated The Revenue"
      ],
      "metadata": {
        "id": "nZwr4gUsF1Ri"
      }
    },
    {
      "cell_type": "markdown",
      "source": [
        "2) Weekend"
      ],
      "metadata": {
        "id": "7is9kPL1F2sq"
      }
    },
    {
      "cell_type": "code",
      "source": [
        "sns.set_theme(style=\"darkgrid\")\n",
        "sns.countplot(x=df['Weekend'],palette=\"rocket_r\")\n",
        "plt.title('Distribution of Weekend')\n",
        "plt.show()"
      ],
      "metadata": {
        "colab": {
          "base_uri": "https://localhost:8080/",
          "height": 301
        },
        "id": "wWute-4dFLM4",
        "outputId": "9ed4272b-6266-4691-800c-13982c842da3"
      },
      "execution_count": null,
      "outputs": [
        {
          "output_type": "display_data",
          "data": {
            "image/png": "[encoded data removed]",
            "text/plain": [
              "<Figure size 432x288 with 1 Axes>"
            ]
          },
          "metadata": {}
        }
      ]
    },
    {
      "cell_type": "markdown",
      "source": [
        "From The Above Observation We Can Say That Very Few People Have Visited The Shopping Website In The Weekend"
      ],
      "metadata": {
        "id": "uGhKwcq0F9BH"
      }
    },
    {
      "cell_type": "markdown",
      "source": [
        "3) Region"
      ],
      "metadata": {
        "id": "s7f9Pl0pGKNs"
      }
    },
    {
      "cell_type": "code",
      "source": [
        "\n",
        "fig = go.Figure(data=[go.Pie(labels=[1,3,4,2,6,7,9,8,5],\n",
        "                             values=df['Region'].value_counts(),title='Percentage of Different Regions  by visitors')])\n",
        "fig.update_traces(textposition='inside', textinfo='percent+label')\n",
        "fig.show()\n"
      ],
      "metadata": {
        "colab": {
          "base_uri": "https://localhost:8080/",
          "height": 542
        },
        "id": "c621z7uUWpFu",
        "outputId": "24b86954-bb99-4d1f-81eb-01456beab308"
      },
      "execution_count": null,
      "outputs": [
        {
          "output_type": "display_data",
          "data": {
            "text/html": [
              "<html>\n",
              "<head><meta charset=\"utf-8\" /></head>\n",
              "<body>\n",
              "    <div>            <script src=\"https://cdnjs.cloudflare.com/ajax/libs/mathjax/2.7.5/MathJax.js?config=TeX-AMS-MML_SVG\"></script><script type=\"text/javascript\">if (window.MathJax) {MathJax.Hub.Config({SVG: {font: \"STIX-Web\"}});}</script>                <script type=\"text/javascript\">window.PlotlyConfig = {MathJaxConfig: 'local'};</script>\n",
              "        <script src=\"https://cdn.plot.ly/plotly-2.8.3.min.js\"></script>                <div id=\"dc7ad19d-8d74-4dc8-856a-3d74b42f7748\" class=\"plotly-graph-div\" style=\"height:525px; width:100%;\"></div>            <script type=\"text/javascript\">                                    window.PLOTLYENV=window.PLOTLYENV || {};                                    if (document.getElementById(\"dc7ad19d-8d74-4dc8-856a-3d74b42f7748\")) {                    Plotly.newPlot(                        \"dc7ad19d-8d74-4dc8-856a-3d74b42f7748\",                        [{\"labels\":[1,3,4,2,6,7,9,8,5],\"title\":{\"text\":\"Percentage of Different Regions  by visitors\"},\"values\":[4859,2373,1170,1127,798,755,504,429,315],\"type\":\"pie\",\"textinfo\":\"percent+label\",\"textposition\":\"inside\"}],                        {\"template\":{\"data\":{\"bar\":[{\"error_x\":{\"color\":\"#2a3f5f\"},\"error_y\":{\"color\":\"#2a3f5f\"},\"marker\":{\"line\":{\"color\":\"#E5ECF6\",\"width\":0.5},\"pattern\":{\"fillmode\":\"overlay\",\"size\":10,\"solidity\":0.2}},\"type\":\"bar\"}],\"barpolar\":[{\"marker\":{\"line\":{\"color\":\"#E5ECF6\",\"width\":0.5},\"pattern\":{\"fillmode\":\"overlay\",\"size\":10,\"solidity\":0.2}},\"type\":\"barpolar\"}],\"carpet\":[{\"aaxis\":{\"endlinecolor\":\"#2a3f5f\",\"gridcolor\":\"white\",\"linecolor\":\"white\",\"minorgridcolor\":\"white\",\"startlinecolor\":\"#2a3f5f\"},\"baxis\":{\"endlinecolor\":\"#2a3f5f\",\"gridcolor\":\"white\",\"linecolor\":\"white\",\"minorgridcolor\":\"white\",\"startlinecolor\":\"#2a3f5f\"},\"type\":\"carpet\"}],\"choropleth\":[{\"colorbar\":{\"outlinewidth\":0,\"ticks\":\"\"},\"type\":\"choropleth\"}],\"contour\":[{\"colorbar\":{\"outlinewidth\":0,\"ticks\":\"\"},\"colorscale\":[[0.0,\"#0d0887\"],[0.1111111111111111,\"#46039f\"],[0.2222222222222222,\"#7201a8\"],[0.3333333333333333,\"#9c179e\"],[0.4444444444444444,\"#bd3786\"],[0.5555555555555556,\"#d8576b\"],[0.6666666666666666,\"#ed7953\"],[0.7777777777777778,\"#fb9f3a\"],[0.8888888888888888,\"#fdca26\"],[1.0,\"#f0f921\"]],\"type\":\"contour\"}],\"contourcarpet\":[{\"colorbar\":{\"outlinewidth\":0,\"ticks\":\"\"},\"type\":\"contourcarpet\"}],\"heatmap\":[{\"colorbar\":{\"outlinewidth\":0,\"ticks\":\"\"},\"colorscale\":[[0.0,\"#0d0887\"],[0.1111111111111111,\"#46039f\"],[0.2222222222222222,\"#7201a8\"],[0.3333333333333333,\"#9c179e\"],[0.4444444444444444,\"#bd3786\"],[0.5555555555555556,\"#d8576b\"],[0.6666666666666666,\"#ed7953\"],[0.7777777777777778,\"#fb9f3a\"],[0.8888888888888888,\"#fdca26\"],[1.0,\"#f0f921\"]],\"type\":\"heatmap\"}],\"heatmapgl\":[{\"colorbar\":{\"outlinewidth\":0,\"ticks\":\"\"},\"colorscale\":[[0.0,\"#0d0887\"],[0.1111111111111111,\"#46039f\"],[0.2222222222222222,\"#7201a8\"],[0.3333333333333333,\"#9c179e\"],[0.4444444444444444,\"#bd3786\"],[0.5555555555555556,\"#d8576b\"],[0.6666666666666666,\"#ed7953\"],[0.7777777777777778,\"#fb9f3a\"],[0.8888888888888888,\"#fdca26\"],[1.0,\"#f0f921\"]],\"type\":\"heatmapgl\"}],\"histogram\":[{\"marker\":{\"pattern\":{\"fillmode\":\"overlay\",\"size\":10,\"solidity\":0.2}},\"type\":\"histogram\"}],\"histogram2d\":[{\"colorbar\":{\"outlinewidth\":0,\"ticks\":\"\"},\"colorscale\":[[0.0,\"#0d0887\"],[0.1111111111111111,\"#46039f\"],[0.2222222222222222,\"#7201a8\"],[0.3333333333333333,\"#9c179e\"],[0.4444444444444444,\"#bd3786\"],[0.5555555555555556,\"#d8576b\"],[0.6666666666666666,\"#ed7953\"],[0.7777777777777778,\"#fb9f3a\"],[0.8888888888888888,\"#fdca26\"],[1.0,\"#f0f921\"]],\"type\":\"histogram2d\"}],\"histogram2dcontour\":[{\"colorbar\":{\"outlinewidth\":0,\"ticks\":\"\"},\"colorscale\":[[0.0,\"#0d0887\"],[0.1111111111111111,\"#46039f\"],[0.2222222222222222,\"#7201a8\"],[0.3333333333333333,\"#9c179e\"],[0.4444444444444444,\"#bd3786\"],[0.5555555555555556,\"#d8576b\"],[0.6666666666666666,\"#ed7953\"],[0.7777777777777778,\"#fb9f3a\"],[0.8888888888888888,\"#fdca26\"],[1.0,\"#f0f921\"]],\"type\":\"histogram2dcontour\"}],\"mesh3d\":[{\"colorbar\":{\"outlinewidth\":0,\"ticks\":\"\"},\"type\":\"mesh3d\"}],\"parcoords\":[{\"line\":{\"colorbar\":{\"outlinewidth\":0,\"ticks\":\"\"}},\"type\":\"parcoords\"}],\"pie\":[{\"automargin\":true,\"type\":\"pie\"}],\"scatter\":[{\"marker\":{\"colorbar\":{\"outlinewidth\":0,\"ticks\":\"\"}},\"type\":\"scatter\"}],\"scatter3d\":[{\"line\":{\"colorbar\":{\"outlinewidth\":0,\"ticks\":\"\"}},\"marker\":{\"colorbar\":{\"outlinewidth\":0,\"ticks\":\"\"}},\"type\":\"scatter3d\"}],\"scattercarpet\":[{\"marker\":{\"colorbar\":{\"outlinewidth\":0,\"ticks\":\"\"}},\"type\":\"scattercarpet\"}],\"scattergeo\":[{\"marker\":{\"colorbar\":{\"outlinewidth\":0,\"ticks\":\"\"}},\"type\":\"scattergeo\"}],\"scattergl\":[{\"marker\":{\"colorbar\":{\"outlinewidth\":0,\"ticks\":\"\"}},\"type\":\"scattergl\"}],\"scattermapbox\":[{\"marker\":{\"colorbar\":{\"outlinewidth\":0,\"ticks\":\"\"}},\"type\":\"scattermapbox\"}],\"scatterpolar\":[{\"marker\":{\"colorbar\":{\"outlinewidth\":0,\"ticks\":\"\"}},\"type\":\"scatterpolar\"}],\"scatterpolargl\":[{\"marker\":{\"colorbar\":{\"outlinewidth\":0,\"ticks\":\"\"}},\"type\":\"scatterpolargl\"}],\"scatterternary\":[{\"marker\":{\"colorbar\":{\"outlinewidth\":0,\"ticks\":\"\"}},\"type\":\"scatterternary\"}],\"surface\":[{\"colorbar\":{\"outlinewidth\":0,\"ticks\":\"\"},\"colorscale\":[[0.0,\"#0d0887\"],[0.1111111111111111,\"#46039f\"],[0.2222222222222222,\"#7201a8\"],[0.3333333333333333,\"#9c179e\"],[0.4444444444444444,\"#bd3786\"],[0.5555555555555556,\"#d8576b\"],[0.6666666666666666,\"#ed7953\"],[0.7777777777777778,\"#fb9f3a\"],[0.8888888888888888,\"#fdca26\"],[1.0,\"#f0f921\"]],\"type\":\"surface\"}],\"table\":[{\"cells\":{\"fill\":{\"color\":\"#EBF0F8\"},\"line\":{\"color\":\"white\"}},\"header\":{\"fill\":{\"color\":\"#C8D4E3\"},\"line\":{\"color\":\"white\"}},\"type\":\"table\"}]},\"layout\":{\"annotationdefaults\":{\"arrowcolor\":\"#2a3f5f\",\"arrowhead\":0,\"arrowwidth\":1},\"autotypenumbers\":\"strict\",\"coloraxis\":{\"colorbar\":{\"outlinewidth\":0,\"ticks\":\"\"}},\"colorscale\":{\"diverging\":[[0,\"#8e0152\"],[0.1,\"#c51b7d\"],[0.2,\"#de77ae\"],[0.3,\"#f1b6da\"],[0.4,\"#fde0ef\"],[0.5,\"#f7f7f7\"],[0.6,\"#e6f5d0\"],[0.7,\"#b8e186\"],[0.8,\"#7fbc41\"],[0.9,\"#4d9221\"],[1,\"#276419\"]],\"sequential\":[[0.0,\"#0d0887\"],[0.1111111111111111,\"#46039f\"],[0.2222222222222222,\"#7201a8\"],[0.3333333333333333,\"#9c179e\"],[0.4444444444444444,\"#bd3786\"],[0.5555555555555556,\"#d8576b\"],[0.6666666666666666,\"#ed7953\"],[0.7777777777777778,\"#fb9f3a\"],[0.8888888888888888,\"#fdca26\"],[1.0,\"#f0f921\"]],\"sequentialminus\":[[0.0,\"#0d0887\"],[0.1111111111111111,\"#46039f\"],[0.2222222222222222,\"#7201a8\"],[0.3333333333333333,\"#9c179e\"],[0.4444444444444444,\"#bd3786\"],[0.5555555555555556,\"#d8576b\"],[0.6666666666666666,\"#ed7953\"],[0.7777777777777778,\"#fb9f3a\"],[0.8888888888888888,\"#fdca26\"],[1.0,\"#f0f921\"]]},\"colorway\":[\"#636efa\",\"#EF553B\",\"#00cc96\",\"#ab63fa\",\"#FFA15A\",\"#19d3f3\",\"#FF6692\",\"#B6E880\",\"#FF97FF\",\"#FECB52\"],\"font\":{\"color\":\"#2a3f5f\"},\"geo\":{\"bgcolor\":\"white\",\"lakecolor\":\"white\",\"landcolor\":\"#E5ECF6\",\"showlakes\":true,\"showland\":true,\"subunitcolor\":\"white\"},\"hoverlabel\":{\"align\":\"left\"},\"hovermode\":\"closest\",\"mapbox\":{\"style\":\"light\"},\"paper_bgcolor\":\"white\",\"plot_bgcolor\":\"#E5ECF6\",\"polar\":{\"angularaxis\":{\"gridcolor\":\"white\",\"linecolor\":\"white\",\"ticks\":\"\"},\"bgcolor\":\"#E5ECF6\",\"radialaxis\":{\"gridcolor\":\"white\",\"linecolor\":\"white\",\"ticks\":\"\"}},\"scene\":{\"xaxis\":{\"backgroundcolor\":\"#E5ECF6\",\"gridcolor\":\"white\",\"gridwidth\":2,\"linecolor\":\"white\",\"showbackground\":true,\"ticks\":\"\",\"zerolinecolor\":\"white\"},\"yaxis\":{\"backgroundcolor\":\"#E5ECF6\",\"gridcolor\":\"white\",\"gridwidth\":2,\"linecolor\":\"white\",\"showbackground\":true,\"ticks\":\"\",\"zerolinecolor\":\"white\"},\"zaxis\":{\"backgroundcolor\":\"#E5ECF6\",\"gridcolor\":\"white\",\"gridwidth\":2,\"linecolor\":\"white\",\"showbackground\":true,\"ticks\":\"\",\"zerolinecolor\":\"white\"}},\"shapedefaults\":{\"line\":{\"color\":\"#2a3f5f\"}},\"ternary\":{\"aaxis\":{\"gridcolor\":\"white\",\"linecolor\":\"white\",\"ticks\":\"\"},\"baxis\":{\"gridcolor\":\"white\",\"linecolor\":\"white\",\"ticks\":\"\"},\"bgcolor\":\"#E5ECF6\",\"caxis\":{\"gridcolor\":\"white\",\"linecolor\":\"white\",\"ticks\":\"\"}},\"title\":{\"x\":0.05},\"xaxis\":{\"automargin\":true,\"gridcolor\":\"white\",\"linecolor\":\"white\",\"ticks\":\"\",\"title\":{\"standoff\":15},\"zerolinecolor\":\"white\",\"zerolinewidth\":2},\"yaxis\":{\"automargin\":true,\"gridcolor\":\"white\",\"linecolor\":\"white\",\"ticks\":\"\",\"title\":{\"standoff\":15},\"zerolinecolor\":\"white\",\"zerolinewidth\":2}}}},                        {\"responsive\": true}                    ).then(function(){\n",
              "                            \n",
              "var gd = document.getElementById('dc7ad19d-8d74-4dc8-856a-3d74b42f7748');\n",
              "var x = new MutationObserver(function (mutations, observer) {{\n",
              "        var display = window.getComputedStyle(gd).display;\n",
              "        if (!display || display === 'none') {{\n",
              "            console.log([gd, 'removed!']);\n",
              "            Plotly.purge(gd);\n",
              "            observer.disconnect();\n",
              "        }}\n",
              "}});\n",
              "\n",
              "// Listen for the removal of the full notebook cells\n",
              "var notebookContainer = gd.closest('#notebook-container');\n",
              "if (notebookContainer) {{\n",
              "    x.observe(notebookContainer, {childList: true});\n",
              "}}\n",
              "\n",
              "// Listen for the clearing of the current output cell\n",
              "var outputEl = gd.closest('.output');\n",
              "if (outputEl) {{\n",
              "    x.observe(outputEl, {childList: true});\n",
              "}}\n",
              "\n",
              "                        })                };                            </script>        </div>\n",
              "</body>\n",
              "</html>"
            ]
          },
          "metadata": {}
        }
      ]
    },
    {
      "cell_type": "code",
      "source": [
        "plt.figure(figsize = (15,7))\n",
        "plt.title('Distribution of people visited by Region with respect to Revenue')\n",
        "sns.countplot(x= 'Region', hue = 'Revenue', data = df, palette=\"rocket_r\")\n",
        "plt.show()"
      ],
      "metadata": {
        "colab": {
          "base_uri": "https://localhost:8080/",
          "height": 464
        },
        "id": "nHenN48EFLl4",
        "outputId": "2dcefa8b-a71b-43f1-bbe0-c86d44f39ae9"
      },
      "execution_count": null,
      "outputs": [
        {
          "output_type": "display_data",
          "data": {
            "image/png": "[encoded data removed]",
            "text/plain": [
              "<Figure size 1080x504 with 1 Axes>"
            ]
          },
          "metadata": {}
        }
      ]
    },
    {
      "cell_type": "markdown",
      "source": [
        "From the above charts we can say that most of the vistors and revenue are from **region 1**"
      ],
      "metadata": {
        "id": "n-Jc9rzqGOSt"
      }
    },
    {
      "cell_type": "markdown",
      "source": [
        "4) Month"
      ],
      "metadata": {
        "id": "tzZ7kmI3GgRP"
      }
    },
    {
      "cell_type": "code",
      "source": [
        "fig = go.Figure(data=[go.Pie(labels=['May', 'Nov', 'Mar', 'Dec', 'Oct', 'Sep', 'Aug', 'Jul', 'June', 'Feb'],\n",
        "                             values=df['Month'].value_counts(),title='Percentage of Month')])\n",
        "fig.update_traces(textposition='inside', textinfo='percent+label')\n",
        "fig.show()"
      ],
      "metadata": {
        "colab": {
          "base_uri": "https://localhost:8080/",
          "height": 542
        },
        "id": "3_m1pkKKXcGg",
        "outputId": "a739f807-9526-466a-a87c-e3ad41dafee0"
      },
      "execution_count": null,
      "outputs": [
        {
          "output_type": "display_data",
          "data": {
            "text/html": [
              "<html>\n",
              "<head><meta charset=\"utf-8\" /></head>\n",
              "<body>\n",
              "    <div>            <script src=\"https://cdnjs.cloudflare.com/ajax/libs/mathjax/2.7.5/MathJax.js?config=TeX-AMS-MML_SVG\"></script><script type=\"text/javascript\">if (window.MathJax) {MathJax.Hub.Config({SVG: {font: \"STIX-Web\"}});}</script>                <script type=\"text/javascript\">window.PlotlyConfig = {MathJaxConfig: 'local'};</script>\n",
              "        <script src=\"https://cdn.plot.ly/plotly-2.8.3.min.js\"></script>                <div id=\"a9db8c76-0f12-4bdb-92e7-9a60b09878b7\" class=\"plotly-graph-div\" style=\"height:525px; width:100%;\"></div>            <script type=\"text/javascript\">                                    window.PLOTLYENV=window.PLOTLYENV || {};                                    if (document.getElementById(\"a9db8c76-0f12-4bdb-92e7-9a60b09878b7\")) {                    Plotly.newPlot(                        \"a9db8c76-0f12-4bdb-92e7-9a60b09878b7\",                        [{\"labels\":[\"May\",\"Nov\",\"Mar\",\"Dec\",\"Oct\",\"Sep\",\"Aug\",\"Jul\",\"June\",\"Feb\"],\"title\":{\"text\":\"Percentage of Month\"},\"values\":[3447,2969,1889,1710,545,445,431,428,285,181],\"type\":\"pie\",\"textinfo\":\"percent+label\",\"textposition\":\"inside\"}],                        {\"template\":{\"data\":{\"bar\":[{\"error_x\":{\"color\":\"#2a3f5f\"},\"error_y\":{\"color\":\"#2a3f5f\"},\"marker\":{\"line\":{\"color\":\"#E5ECF6\",\"width\":0.5},\"pattern\":{\"fillmode\":\"overlay\",\"size\":10,\"solidity\":0.2}},\"type\":\"bar\"}],\"barpolar\":[{\"marker\":{\"line\":{\"color\":\"#E5ECF6\",\"width\":0.5},\"pattern\":{\"fillmode\":\"overlay\",\"size\":10,\"solidity\":0.2}},\"type\":\"barpolar\"}],\"carpet\":[{\"aaxis\":{\"endlinecolor\":\"#2a3f5f\",\"gridcolor\":\"white\",\"linecolor\":\"white\",\"minorgridcolor\":\"white\",\"startlinecolor\":\"#2a3f5f\"},\"baxis\":{\"endlinecolor\":\"#2a3f5f\",\"gridcolor\":\"white\",\"linecolor\":\"white\",\"minorgridcolor\":\"white\",\"startlinecolor\":\"#2a3f5f\"},\"type\":\"carpet\"}],\"choropleth\":[{\"colorbar\":{\"outlinewidth\":0,\"ticks\":\"\"},\"type\":\"choropleth\"}],\"contour\":[{\"colorbar\":{\"outlinewidth\":0,\"ticks\":\"\"},\"colorscale\":[[0.0,\"#0d0887\"],[0.1111111111111111,\"#46039f\"],[0.2222222222222222,\"#7201a8\"],[0.3333333333333333,\"#9c179e\"],[0.4444444444444444,\"#bd3786\"],[0.5555555555555556,\"#d8576b\"],[0.6666666666666666,\"#ed7953\"],[0.7777777777777778,\"#fb9f3a\"],[0.8888888888888888,\"#fdca26\"],[1.0,\"#f0f921\"]],\"type\":\"contour\"}],\"contourcarpet\":[{\"colorbar\":{\"outlinewidth\":0,\"ticks\":\"\"},\"type\":\"contourcarpet\"}],\"heatmap\":[{\"colorbar\":{\"outlinewidth\":0,\"ticks\":\"\"},\"colorscale\":[[0.0,\"#0d0887\"],[0.1111111111111111,\"#46039f\"],[0.2222222222222222,\"#7201a8\"],[0.3333333333333333,\"#9c179e\"],[0.4444444444444444,\"#bd3786\"],[0.5555555555555556,\"#d8576b\"],[0.6666666666666666,\"#ed7953\"],[0.7777777777777778,\"#fb9f3a\"],[0.8888888888888888,\"#fdca26\"],[1.0,\"#f0f921\"]],\"type\":\"heatmap\"}],\"heatmapgl\":[{\"colorbar\":{\"outlinewidth\":0,\"ticks\":\"\"},\"colorscale\":[[0.0,\"#0d0887\"],[0.1111111111111111,\"#46039f\"],[0.2222222222222222,\"#7201a8\"],[0.3333333333333333,\"#9c179e\"],[0.4444444444444444,\"#bd3786\"],[0.5555555555555556,\"#d8576b\"],[0.6666666666666666,\"#ed7953\"],[0.7777777777777778,\"#fb9f3a\"],[0.8888888888888888,\"#fdca26\"],[1.0,\"#f0f921\"]],\"type\":\"heatmapgl\"}],\"histogram\":[{\"marker\":{\"pattern\":{\"fillmode\":\"overlay\",\"size\":10,\"solidity\":0.2}},\"type\":\"histogram\"}],\"histogram2d\":[{\"colorbar\":{\"outlinewidth\":0,\"ticks\":\"\"},\"colorscale\":[[0.0,\"#0d0887\"],[0.1111111111111111,\"#46039f\"],[0.2222222222222222,\"#7201a8\"],[0.3333333333333333,\"#9c179e\"],[0.4444444444444444,\"#bd3786\"],[0.5555555555555556,\"#d8576b\"],[0.6666666666666666,\"#ed7953\"],[0.7777777777777778,\"#fb9f3a\"],[0.8888888888888888,\"#fdca26\"],[1.0,\"#f0f921\"]],\"type\":\"histogram2d\"}],\"histogram2dcontour\":[{\"colorbar\":{\"outlinewidth\":0,\"ticks\":\"\"},\"colorscale\":[[0.0,\"#0d0887\"],[0.1111111111111111,\"#46039f\"],[0.2222222222222222,\"#7201a8\"],[0.3333333333333333,\"#9c179e\"],[0.4444444444444444,\"#bd3786\"],[0.5555555555555556,\"#d8576b\"],[0.6666666666666666,\"#ed7953\"],[0.7777777777777778,\"#fb9f3a\"],[0.8888888888888888,\"#fdca26\"],[1.0,\"#f0f921\"]],\"type\":\"histogram2dcontour\"}],\"mesh3d\":[{\"colorbar\":{\"outlinewidth\":0,\"ticks\":\"\"},\"type\":\"mesh3d\"}],\"parcoords\":[{\"line\":{\"colorbar\":{\"outlinewidth\":0,\"ticks\":\"\"}},\"type\":\"parcoords\"}],\"pie\":[{\"automargin\":true,\"type\":\"pie\"}],\"scatter\":[{\"marker\":{\"colorbar\":{\"outlinewidth\":0,\"ticks\":\"\"}},\"type\":\"scatter\"}],\"scatter3d\":[{\"line\":{\"colorbar\":{\"outlinewidth\":0,\"ticks\":\"\"}},\"marker\":{\"colorbar\":{\"outlinewidth\":0,\"ticks\":\"\"}},\"type\":\"scatter3d\"}],\"scattercarpet\":[{\"marker\":{\"colorbar\":{\"outlinewidth\":0,\"ticks\":\"\"}},\"type\":\"scattercarpet\"}],\"scattergeo\":[{\"marker\":{\"colorbar\":{\"outlinewidth\":0,\"ticks\":\"\"}},\"type\":\"scattergeo\"}],\"scattergl\":[{\"marker\":{\"colorbar\":{\"outlinewidth\":0,\"ticks\":\"\"}},\"type\":\"scattergl\"}],\"scattermapbox\":[{\"marker\":{\"colorbar\":{\"outlinewidth\":0,\"ticks\":\"\"}},\"type\":\"scattermapbox\"}],\"scatterpolar\":[{\"marker\":{\"colorbar\":{\"outlinewidth\":0,\"ticks\":\"\"}},\"type\":\"scatterpolar\"}],\"scatterpolargl\":[{\"marker\":{\"colorbar\":{\"outlinewidth\":0,\"ticks\":\"\"}},\"type\":\"scatterpolargl\"}],\"scatterternary\":[{\"marker\":{\"colorbar\":{\"outlinewidth\":0,\"ticks\":\"\"}},\"type\":\"scatterternary\"}],\"surface\":[{\"colorbar\":{\"outlinewidth\":0,\"ticks\":\"\"},\"colorscale\":[[0.0,\"#0d0887\"],[0.1111111111111111,\"#46039f\"],[0.2222222222222222,\"#7201a8\"],[0.3333333333333333,\"#9c179e\"],[0.4444444444444444,\"#bd3786\"],[0.5555555555555556,\"#d8576b\"],[0.6666666666666666,\"#ed7953\"],[0.7777777777777778,\"#fb9f3a\"],[0.8888888888888888,\"#fdca26\"],[1.0,\"#f0f921\"]],\"type\":\"surface\"}],\"table\":[{\"cells\":{\"fill\":{\"color\":\"#EBF0F8\"},\"line\":{\"color\":\"white\"}},\"header\":{\"fill\":{\"color\":\"#C8D4E3\"},\"line\":{\"color\":\"white\"}},\"type\":\"table\"}]},\"layout\":{\"annotationdefaults\":{\"arrowcolor\":\"#2a3f5f\",\"arrowhead\":0,\"arrowwidth\":1},\"autotypenumbers\":\"strict\",\"coloraxis\":{\"colorbar\":{\"outlinewidth\":0,\"ticks\":\"\"}},\"colorscale\":{\"diverging\":[[0,\"#8e0152\"],[0.1,\"#c51b7d\"],[0.2,\"#de77ae\"],[0.3,\"#f1b6da\"],[0.4,\"#fde0ef\"],[0.5,\"#f7f7f7\"],[0.6,\"#e6f5d0\"],[0.7,\"#b8e186\"],[0.8,\"#7fbc41\"],[0.9,\"#4d9221\"],[1,\"#276419\"]],\"sequential\":[[0.0,\"#0d0887\"],[0.1111111111111111,\"#46039f\"],[0.2222222222222222,\"#7201a8\"],[0.3333333333333333,\"#9c179e\"],[0.4444444444444444,\"#bd3786\"],[0.5555555555555556,\"#d8576b\"],[0.6666666666666666,\"#ed7953\"],[0.7777777777777778,\"#fb9f3a\"],[0.8888888888888888,\"#fdca26\"],[1.0,\"#f0f921\"]],\"sequentialminus\":[[0.0,\"#0d0887\"],[0.1111111111111111,\"#46039f\"],[0.2222222222222222,\"#7201a8\"],[0.3333333333333333,\"#9c179e\"],[0.4444444444444444,\"#bd3786\"],[0.5555555555555556,\"#d8576b\"],[0.6666666666666666,\"#ed7953\"],[0.7777777777777778,\"#fb9f3a\"],[0.8888888888888888,\"#fdca26\"],[1.0,\"#f0f921\"]]},\"colorway\":[\"#636efa\",\"#EF553B\",\"#00cc96\",\"#ab63fa\",\"#FFA15A\",\"#19d3f3\",\"#FF6692\",\"#B6E880\",\"#FF97FF\",\"#FECB52\"],\"font\":{\"color\":\"#2a3f5f\"},\"geo\":{\"bgcolor\":\"white\",\"lakecolor\":\"white\",\"landcolor\":\"#E5ECF6\",\"showlakes\":true,\"showland\":true,\"subunitcolor\":\"white\"},\"hoverlabel\":{\"align\":\"left\"},\"hovermode\":\"closest\",\"mapbox\":{\"style\":\"light\"},\"paper_bgcolor\":\"white\",\"plot_bgcolor\":\"#E5ECF6\",\"polar\":{\"angularaxis\":{\"gridcolor\":\"white\",\"linecolor\":\"white\",\"ticks\":\"\"},\"bgcolor\":\"#E5ECF6\",\"radialaxis\":{\"gridcolor\":\"white\",\"linecolor\":\"white\",\"ticks\":\"\"}},\"scene\":{\"xaxis\":{\"backgroundcolor\":\"#E5ECF6\",\"gridcolor\":\"white\",\"gridwidth\":2,\"linecolor\":\"white\",\"showbackground\":true,\"ticks\":\"\",\"zerolinecolor\":\"white\"},\"yaxis\":{\"backgroundcolor\":\"#E5ECF6\",\"gridcolor\":\"white\",\"gridwidth\":2,\"linecolor\":\"white\",\"showbackground\":true,\"ticks\":\"\",\"zerolinecolor\":\"white\"},\"zaxis\":{\"backgroundcolor\":\"#E5ECF6\",\"gridcolor\":\"white\",\"gridwidth\":2,\"linecolor\":\"white\",\"showbackground\":true,\"ticks\":\"\",\"zerolinecolor\":\"white\"}},\"shapedefaults\":{\"line\":{\"color\":\"#2a3f5f\"}},\"ternary\":{\"aaxis\":{\"gridcolor\":\"white\",\"linecolor\":\"white\",\"ticks\":\"\"},\"baxis\":{\"gridcolor\":\"white\",\"linecolor\":\"white\",\"ticks\":\"\"},\"bgcolor\":\"#E5ECF6\",\"caxis\":{\"gridcolor\":\"white\",\"linecolor\":\"white\",\"ticks\":\"\"}},\"title\":{\"x\":0.05},\"xaxis\":{\"automargin\":true,\"gridcolor\":\"white\",\"linecolor\":\"white\",\"ticks\":\"\",\"title\":{\"standoff\":15},\"zerolinecolor\":\"white\",\"zerolinewidth\":2},\"yaxis\":{\"automargin\":true,\"gridcolor\":\"white\",\"linecolor\":\"white\",\"ticks\":\"\",\"title\":{\"standoff\":15},\"zerolinecolor\":\"white\",\"zerolinewidth\":2}}}},                        {\"responsive\": true}                    ).then(function(){\n",
              "                            \n",
              "var gd = document.getElementById('a9db8c76-0f12-4bdb-92e7-9a60b09878b7');\n",
              "var x = new MutationObserver(function (mutations, observer) {{\n",
              "        var display = window.getComputedStyle(gd).display;\n",
              "        if (!display || display === 'none') {{\n",
              "            console.log([gd, 'removed!']);\n",
              "            Plotly.purge(gd);\n",
              "            observer.disconnect();\n",
              "        }}\n",
              "}});\n",
              "\n",
              "// Listen for the removal of the full notebook cells\n",
              "var notebookContainer = gd.closest('#notebook-container');\n",
              "if (notebookContainer) {{\n",
              "    x.observe(notebookContainer, {childList: true});\n",
              "}}\n",
              "\n",
              "// Listen for the clearing of the current output cell\n",
              "var outputEl = gd.closest('.output');\n",
              "if (outputEl) {{\n",
              "    x.observe(outputEl, {childList: true});\n",
              "}}\n",
              "\n",
              "                        })                };                            </script>        </div>\n",
              "</body>\n",
              "</html>"
            ]
          },
          "metadata": {}
        }
      ]
    },
    {
      "cell_type": "markdown",
      "source": [
        "From the above charts we can say that most of the vistors are from the month **\"May\"**"
      ],
      "metadata": {
        "id": "krYT87d2j_Oo"
      }
    },
    {
      "cell_type": "markdown",
      "source": [
        "Second we do the categorical data visualization: \n",
        "\n",
        "1.   Special Day\n",
        "2.   Administrative Duration\n",
        "3.   Informational"
      ],
      "metadata": {
        "id": "hurSapa-Girr"
      }
    },
    {
      "cell_type": "markdown",
      "source": [
        "1)Special Day"
      ],
      "metadata": {
        "id": "dzRhk5eeGju-"
      }
    },
    {
      "cell_type": "code",
      "source": [
        "sns.set(rc={'figure.figsize':(15,7)})\n",
        "sns.set_theme(style=\"darkgrid\")\n",
        "sns.countplot(df['Month'],hue=df['SpecialDay'],palette=\"rocket_r\")\n",
        "plt.legend(bbox_to_anchor=(1.05, 1))\n",
        "plt.show()"
      ],
      "metadata": {
        "colab": {
          "base_uri": "https://localhost:8080/",
          "height": 522
        },
        "id": "PvXsakM4GTov",
        "outputId": "f40e9a6a-a91b-4d16-c76e-dcfed59c9358"
      },
      "execution_count": null,
      "outputs": [
        {
          "output_type": "stream",
          "name": "stderr",
          "text": [
            "/usr/local/lib/python3.7/dist-packages/seaborn/_decorators.py:43: FutureWarning:\n",
            "\n",
            "Pass the following variable as a keyword arg: x. From version 0.12, the only valid positional argument will be `data`, and passing other arguments without an explicit keyword will result in an error or misinterpretation.\n",
            "\n"
          ]
        },
        {
          "output_type": "display_data",
          "data": {
            "image/png": "[encoded data removed]",
            "text/plain": [
              "<Figure size 1080x504 with 1 Axes>"
            ]
          },
          "metadata": {}
        }
      ]
    },
    {
      "cell_type": "markdown",
      "source": [
        ".There are no special days between Aug and Nov\n",
        "\n",
        ".There are many special Days in the month of may\n",
        "\n",
        ".There are very few special days in the month of oct"
      ],
      "metadata": {
        "id": "Aq6EFiZDGl9e"
      }
    },
    {
      "cell_type": "markdown",
      "source": [
        "2) Administrative Duration vs Month"
      ],
      "metadata": {
        "id": "1JA-XCiOGsPJ"
      }
    },
    {
      "cell_type": "code",
      "source": [
        "plt.figure(figsize=(15,7))\n",
        "sns.barplot(y='Administrative_Duration',x='Month',data=df,hue='Revenue')\n",
        "plt.show()"
      ],
      "metadata": {
        "colab": {
          "base_uri": "https://localhost:8080/",
          "height": 447
        },
        "id": "PclbodJVGTxP",
        "outputId": "e99395a1-836b-458f-b277-3842c4af596a"
      },
      "execution_count": null,
      "outputs": [
        {
          "output_type": "display_data",
          "data": {
            "image/png": "[encoded data removed]",
            "text/plain": [
              "<Figure size 1080x504 with 1 Axes>"
            ]
          },
          "metadata": {}
        }
      ]
    },
    {
      "cell_type": "markdown",
      "source": [
        "Most of the revenue is generated in the **month of February** and In this month the duration of administrative searches are **huge**."
      ],
      "metadata": {
        "id": "hqsee_KjGwFk"
      }
    },
    {
      "cell_type": "markdown",
      "source": [
        "3) Informational"
      ],
      "metadata": {
        "id": "LwtR_nkUG1YQ"
      }
    },
    {
      "cell_type": "code",
      "source": [
        "plt.figure(figsize=(15,7))\n",
        "sns.barplot(y='Informational_Duration',x='Revenue',data=df,hue='Month')\n",
        "plt.legend(loc=(1,0),prop={'size':25.4})\n",
        "plt.show()"
      ],
      "metadata": {
        "colab": {
          "base_uri": "https://localhost:8080/",
          "height": 447
        },
        "id": "cOFvI5y9GT8z",
        "outputId": "0f51f5a1-9e5c-4569-9082-64b5d6e3570d"
      },
      "execution_count": null,
      "outputs": [
        {
          "output_type": "display_data",
          "data": {
            "image/png": "[encoded data removed]",
            "text/plain": [
              "<Figure size 1080x504 with 1 Axes>"
            ]
          },
          "metadata": {}
        }
      ]
    },
    {
      "cell_type": "markdown",
      "source": [
        "Revenue is high for informational searches especially in the month of **March and July**"
      ],
      "metadata": {
        "id": "KNep0Yi2G5oY"
      }
    },
    {
      "cell_type": "markdown",
      "source": [
        "#Data Preprocessing"
      ],
      "metadata": {
        "id": "rNaVhpatG63K"
      }
    },
    {
      "cell_type": "code",
      "source": [
        "df['Weekend']=df['Weekend'].replace({True:'Week1',False:'Week0'})\n",
        "df=pd.concat([df,pd.get_dummies(df['Month']),pd.get_dummies(df['Weekend'])],axis=1)"
      ],
      "metadata": {
        "id": "R4uwCJqVGT_p"
      },
      "execution_count": null,
      "outputs": []
    },
    {
      "cell_type": "code",
      "source": [
        "df['PageValueOverProductRelated'] = df['PageValues'] / df['ProductRelated']\n"
      ],
      "metadata": {
        "id": "AomeX23V7t2E"
      },
      "execution_count": null,
      "outputs": []
    },
    {
      "cell_type": "code",
      "source": [
        "df=df.drop(['Month','VisitorType','Weekend', 'BounceRates','Administrative', 'Administrative_Duration', \n",
        "            'Informational','ProductRelated_Duration','ExitRates', 'PageValues', \n",
        "            'SpecialDay', 'OperatingSystems', 'Browser','TrafficType'],axis=1)"
      ],
      "metadata": {
        "id": "FA2laXZ4GUCt"
      },
      "execution_count": null,
      "outputs": []
    },
    {
      "cell_type": "code",
      "source": [
        "np.any(np.isnan(df))"
      ],
      "metadata": {
        "colab": {
          "base_uri": "https://localhost:8080/"
        },
        "id": "v8KRNk_c9n7K",
        "outputId": "9759dc1d-2d0e-467a-9b3b-beccd53ab448"
      },
      "execution_count": null,
      "outputs": [
        {
          "output_type": "execute_result",
          "data": {
            "text/plain": [
              "True"
            ]
          },
          "metadata": {},
          "execution_count": 41
        }
      ]
    },
    {
      "cell_type": "code",
      "source": [
        "df['PageValueOverProductRelated'].isna().sum()"
      ],
      "metadata": {
        "colab": {
          "base_uri": "https://localhost:8080/"
        },
        "id": "qzPBo7G59xxA",
        "outputId": "8ccba05f-291c-4ace-83f6-cdac02138063"
      },
      "execution_count": null,
      "outputs": [
        {
          "output_type": "execute_result",
          "data": {
            "text/plain": [
              "37"
            ]
          },
          "metadata": {},
          "execution_count": 42
        }
      ]
    },
    {
      "cell_type": "code",
      "source": [
        "for column in ['PageValueOverProductRelated']:\n",
        "    df[column].fillna(df[column].mode()[0], inplace=True)"
      ],
      "metadata": {
        "id": "tcKAH2ko-hxp"
      },
      "execution_count": null,
      "outputs": []
    },
    {
      "cell_type": "code",
      "source": [
        "df['PageValueOverProductRelated'].isna().sum()"
      ],
      "metadata": {
        "colab": {
          "base_uri": "https://localhost:8080/"
        },
        "id": "CIUbygWA_DFV",
        "outputId": "9a211bbe-a852-4efa-99b8-72117851538b"
      },
      "execution_count": null,
      "outputs": [
        {
          "output_type": "execute_result",
          "data": {
            "text/plain": [
              "0"
            ]
          },
          "metadata": {},
          "execution_count": 44
        }
      ]
    },
    {
      "cell_type": "code",
      "source": [
        "df.keys()"
      ],
      "metadata": {
        "colab": {
          "base_uri": "https://localhost:8080/"
        },
        "id": "ACyqF04uGUFh",
        "outputId": "e1e17a50-8fe2-4e87-9e02-0e57fc494886"
      },
      "execution_count": null,
      "outputs": [
        {
          "output_type": "execute_result",
          "data": {
            "text/plain": [
              "Index(['Informational_Duration', 'ProductRelated', 'Region', 'Revenue', 'Aug',\n",
              "       'Dec', 'Feb', 'Jul', 'June', 'Mar', 'May', 'Nov', 'Oct', 'Sep', 'Week0',\n",
              "       'Week1', 'PageValueOverProductRelated'],\n",
              "      dtype='object')"
            ]
          },
          "metadata": {},
          "execution_count": 45
        }
      ]
    },
    {
      "cell_type": "markdown",
      "source": [
        "#Train Test Split"
      ],
      "metadata": {
        "id": "9_H-L1qUHCJk"
      }
    },
    {
      "cell_type": "markdown",
      "source": [
        "Let's split our data into test and train, but first we should use **Over Sampling Method** to solve the problem of **imbalanced dataset**."
      ],
      "metadata": {
        "id": "1AGQ1X4CklyO"
      }
    },
    {
      "cell_type": "code",
      "source": [
        "from sklearn.model_selection import train_test_split\n",
        "from imblearn.over_sampling import RandomOverSampler\n",
        "x = df.drop(columns='Revenue')\n",
        "y = df['Revenue']\n",
        "os = RandomOverSampler()\n",
        "x_oversample,y_oversample = os.fit_resample(x,y)\n",
        "print(x_oversample.shape)\n",
        "print(y_oversample.shape)"
      ],
      "metadata": {
        "colab": {
          "base_uri": "https://localhost:8080/"
        },
        "id": "HbGJTJHp0f7m",
        "outputId": "b171f77d-9fa3-438e-b704-9960aeb9357e"
      },
      "execution_count": null,
      "outputs": [
        {
          "output_type": "stream",
          "name": "stdout",
          "text": [
            "(20844, 16)\n",
            "(20844,)\n"
          ]
        }
      ]
    },
    {
      "cell_type": "code",
      "source": [
        "x_train,x_test,y_train,y_test = train_test_split(x_oversample,y_oversample,test_size=0.20 , random_state=42)\n",
        "print(x_train.shape)\n",
        "print(y_train.shape)\n",
        "print(x_test.shape)\n",
        "print(y_test.shape)"
      ],
      "metadata": {
        "colab": {
          "base_uri": "https://localhost:8080/"
        },
        "id": "AjmpNX3IGUIW",
        "outputId": "f4cbbd0a-e885-4fd9-f647-2190c25f5b16"
      },
      "execution_count": null,
      "outputs": [
        {
          "output_type": "stream",
          "name": "stdout",
          "text": [
            "(16675, 16)\n",
            "(16675,)\n",
            "(4169, 16)\n",
            "(4169,)\n"
          ]
        }
      ]
    },
    {
      "cell_type": "code",
      "source": [
        "sns.set_theme(style=\"darkgrid\")\n",
        "sns.countplot(x = y_oversample, palette=\"rocket_r\")\n",
        "plt.title('Revenue')"
      ],
      "metadata": {
        "colab": {
          "base_uri": "https://localhost:8080/",
          "height": 482
        },
        "id": "ZAe8zhp43eQ5",
        "outputId": "5ea148ff-6625-43d4-fa4e-e817da4e2a5b"
      },
      "execution_count": null,
      "outputs": [
        {
          "output_type": "execute_result",
          "data": {
            "text/plain": [
              "Text(0.5, 1.0, 'Revenue')"
            ]
          },
          "metadata": {},
          "execution_count": 48
        },
        {
          "output_type": "display_data",
          "data": {
            "image/png": "[encoded data removed]",
            "text/plain": [
              "<Figure size 1080x504 with 1 Axes>"
            ]
          },
          "metadata": {}
        }
      ]
    },
    {
      "cell_type": "markdown",
      "source": [
        "As you can see, now our dataset is **balanced**"
      ],
      "metadata": {
        "id": "0dT2Ek2Yk4MM"
      }
    },
    {
      "cell_type": "markdown",
      "source": [
        "#Model Selection"
      ],
      "metadata": {
        "id": "p6xiDt5vHF7I"
      }
    },
    {
      "cell_type": "markdown",
      "source": [
        "1.   Logestic Regression\n",
        "2.   SVM\n",
        "3.   KNN\n",
        "4.   Logestic Regression with cross validation\n"
      ],
      "metadata": {
        "id": "BkpgfTozHKg4"
      }
    },
    {
      "cell_type": "markdown",
      "source": [
        "#Logestic Regression"
      ],
      "metadata": {
        "id": "orvEYQVDHNdS"
      }
    },
    {
      "cell_type": "code",
      "source": [
        "from sklearn.linear_model import LogisticRegression"
      ],
      "metadata": {
        "id": "j5DxZB4XGUOL"
      },
      "execution_count": null,
      "outputs": []
    },
    {
      "cell_type": "code",
      "source": [
        "logisticRegr = LogisticRegression(max_iter=100000)"
      ],
      "metadata": {
        "id": "Qz43AsHNGURJ"
      },
      "execution_count": null,
      "outputs": []
    },
    {
      "cell_type": "code",
      "source": [
        "logisticRegr.fit(x_train, y_train)"
      ],
      "metadata": {
        "colab": {
          "base_uri": "https://localhost:8080/"
        },
        "id": "tQ40SchKGUUC",
        "outputId": "812dd7e5-a7ce-4485-e16e-d966a3bd1b14"
      },
      "execution_count": null,
      "outputs": [
        {
          "output_type": "execute_result",
          "data": {
            "text/plain": [
              "LogisticRegression(max_iter=100000)"
            ]
          },
          "metadata": {},
          "execution_count": 51
        }
      ]
    },
    {
      "cell_type": "code",
      "source": [
        "logisticRegr.predict(x_test)"
      ],
      "metadata": {
        "colab": {
          "base_uri": "https://localhost:8080/"
        },
        "id": "GBmH3u3NGUWz",
        "outputId": "cc1e1eae-1ac9-46fe-9ab5-4ab94491fd99"
      },
      "execution_count": null,
      "outputs": [
        {
          "output_type": "execute_result",
          "data": {
            "text/plain": [
              "array([False, False,  True, ...,  True,  True, False])"
            ]
          },
          "metadata": {},
          "execution_count": 52
        }
      ]
    },
    {
      "cell_type": "code",
      "source": [
        "predictions = logisticRegr.predict(x_test)"
      ],
      "metadata": {
        "id": "Fim1QtCKGUZ5"
      },
      "execution_count": null,
      "outputs": []
    },
    {
      "cell_type": "code",
      "source": [
        "x_test.shape"
      ],
      "metadata": {
        "colab": {
          "base_uri": "https://localhost:8080/"
        },
        "id": "nV68ivHdGUc1",
        "outputId": "74bcb37e-e5e9-41d1-b499-11e091bb8325"
      },
      "execution_count": null,
      "outputs": [
        {
          "output_type": "execute_result",
          "data": {
            "text/plain": [
              "(4169, 16)"
            ]
          },
          "metadata": {},
          "execution_count": 54
        }
      ]
    },
    {
      "cell_type": "code",
      "source": [
        "predictions"
      ],
      "metadata": {
        "colab": {
          "base_uri": "https://localhost:8080/"
        },
        "id": "xU1FeHI-GUft",
        "outputId": "03c0f75a-e482-45af-86c0-4c2cadc6e7f1"
      },
      "execution_count": null,
      "outputs": [
        {
          "output_type": "execute_result",
          "data": {
            "text/plain": [
              "array([False, False,  True, ...,  True,  True, False])"
            ]
          },
          "metadata": {},
          "execution_count": 55
        }
      ]
    },
    {
      "cell_type": "code",
      "source": [
        "y_test"
      ],
      "metadata": {
        "colab": {
          "base_uri": "https://localhost:8080/"
        },
        "id": "xljUwhHHGUid",
        "outputId": "b0e0dc36-db59-4053-ebce-94f9a4868b1e"
      },
      "execution_count": null,
      "outputs": [
        {
          "output_type": "execute_result",
          "data": {
            "text/plain": [
              "10760    False\n",
              "12724     True\n",
              "13898     True\n",
              "2153      True\n",
              "15843     True\n",
              "         ...  \n",
              "19       False\n",
              "10048    False\n",
              "15399     True\n",
              "19143     True\n",
              "4980     False\n",
              "Name: Revenue, Length: 4169, dtype: bool"
            ]
          },
          "metadata": {},
          "execution_count": 56
        }
      ]
    },
    {
      "cell_type": "markdown",
      "source": [
        "Evaluate the predictions"
      ],
      "metadata": {
        "id": "97GQRuw_HYta"
      }
    },
    {
      "cell_type": "code",
      "source": [
        "from sklearn.metrics import confusion_matrix\n",
        "cm = confusion_matrix(y_test, predictions)\n",
        "cm"
      ],
      "metadata": {
        "colab": {
          "base_uri": "https://localhost:8080/"
        },
        "id": "YMwRiUlnGUlQ",
        "outputId": "294eb755-58fa-402c-d9b8-6a4e3749c612"
      },
      "execution_count": null,
      "outputs": [
        {
          "output_type": "execute_result",
          "data": {
            "text/plain": [
              "array([[1805,  257],\n",
              "       [ 591, 1516]])"
            ]
          },
          "metadata": {},
          "execution_count": 57
        }
      ]
    },
    {
      "cell_type": "code",
      "source": [
        "import seaborn as sn\n",
        "plt.figure(figsize = (10,7))\n",
        "sn.heatmap(cm, annot=True)\n",
        "plt.xlabel('Predicted')\n",
        "plt.ylabel('Truth')"
      ],
      "metadata": {
        "colab": {
          "base_uri": "https://localhost:8080/",
          "height": 470
        },
        "id": "iA2fEhYcGUob",
        "outputId": "c2692cee-98a0-4f77-dbd9-e7b52fd4b60a"
      },
      "execution_count": null,
      "outputs": [
        {
          "output_type": "execute_result",
          "data": {
            "text/plain": [
              "Text(66.5, 0.5, 'Truth')"
            ]
          },
          "metadata": {},
          "execution_count": 58
        },
        {
          "output_type": "display_data",
          "data": {
            "image/png": "[encoded data removed]",
            "text/plain": [
              "<Figure size 720x504 with 2 Axes>"
            ]
          },
          "metadata": {}
        }
      ]
    },
    {
      "cell_type": "code",
      "source": [
        "from sklearn import metrics\n",
        "from sklearn.metrics import roc_auc_score\n",
        "from sklearn.metrics import roc_curve, auc\n",
        "fpr, tpr, threshold = roc_curve(y_test, predictions)\n",
        "roc_auc = auc(fpr, tpr)\n",
        "print(\"Accuracy:\",metrics.accuracy_score(y_test, predictions))\n",
        "print(\"F1:\",metrics.f1_score(y_test, predictions, average='weighted'))\n",
        "print(\"Precision:\",metrics.precision_score(y_test, predictions ,average='weighted'))\n",
        "print(\"Recall:\",metrics.recall_score(y_test, predictions, average='weighted'))\n",
        "print('AUC : ', roc_auc_score(y_test, predictions))"
      ],
      "metadata": {
        "colab": {
          "base_uri": "https://localhost:8080/"
        },
        "id": "YW7IuyFKGUq7",
        "outputId": "698016fd-0697-4881-e071-4ecc5c159ec7"
      },
      "execution_count": null,
      "outputs": [
        {
          "output_type": "stream",
          "name": "stdout",
          "text": [
            "Accuracy: 0.7965939074118493\n",
            "F1: 0.7954588012611344\n",
            "Precision: 0.8047423411901423\n",
            "Recall: 0.7965939074118493\n",
            "AUC :  0.7974350658766653\n"
          ]
        }
      ]
    },
    {
      "cell_type": "code",
      "source": [
        "from sklearn.metrics import classification_report\n",
        "\n",
        "print(classification_report(y_test, predictions))"
      ],
      "metadata": {
        "colab": {
          "base_uri": "https://localhost:8080/"
        },
        "id": "starR0HsGUtt",
        "outputId": "c462bd1e-f6a4-4364-cc1e-b51580b5f4c8"
      },
      "execution_count": null,
      "outputs": [
        {
          "output_type": "stream",
          "name": "stdout",
          "text": [
            "              precision    recall  f1-score   support\n",
            "\n",
            "       False       0.75      0.88      0.81      2062\n",
            "        True       0.86      0.72      0.78      2107\n",
            "\n",
            "    accuracy                           0.80      4169\n",
            "   macro avg       0.80      0.80      0.80      4169\n",
            "weighted avg       0.80      0.80      0.80      4169\n",
            "\n"
          ]
        }
      ]
    },
    {
      "cell_type": "code",
      "source": [
        "logisticRegr.intercept_"
      ],
      "metadata": {
        "colab": {
          "base_uri": "https://localhost:8080/"
        },
        "id": "EKjaysQTBxbh",
        "outputId": "0c12b502-71e4-4b94-8c92-f22ae4482fdb"
      },
      "execution_count": null,
      "outputs": [
        {
          "output_type": "execute_result",
          "data": {
            "text/plain": [
              "array([-0.85587694])"
            ]
          },
          "metadata": {},
          "execution_count": 61
        }
      ]
    },
    {
      "cell_type": "code",
      "source": [
        "logisticRegr.coef_"
      ],
      "metadata": {
        "colab": {
          "base_uri": "https://localhost:8080/"
        },
        "id": "CMNdXnKTCJzK",
        "outputId": "f4d99e9a-0e2e-47f7-c106-d81250ca545e"
      },
      "execution_count": null,
      "outputs": [
        {
          "output_type": "execute_result",
          "data": {
            "text/plain": [
              "array([[ 7.13528380e-04,  1.16041248e-02,  3.48318295e-03,\n",
              "         2.28098069e-01, -2.31460623e-01, -1.26254097e+00,\n",
              "         2.54173478e-01, -3.48738230e-01, -4.61122144e-01,\n",
              "        -4.71523829e-01,  7.39973820e-01,  2.56287728e-01,\n",
              "         5.06212147e-01, -4.94406841e-01, -2.96233712e-01,\n",
              "         2.12262479e+00]])"
            ]
          },
          "metadata": {},
          "execution_count": 62
        }
      ]
    },
    {
      "cell_type": "markdown",
      "source": [
        "#SVM"
      ],
      "metadata": {
        "id": "7BqqE2eBHjBb"
      }
    },
    {
      "cell_type": "code",
      "source": [
        "from sklearn.svm import SVC\n",
        "model = SVC()"
      ],
      "metadata": {
        "id": "0QZ__-HmGUwc"
      },
      "execution_count": null,
      "outputs": []
    },
    {
      "cell_type": "code",
      "source": [
        "model.fit(x_train, y_train)"
      ],
      "metadata": {
        "colab": {
          "base_uri": "https://localhost:8080/"
        },
        "id": "XM1X83A5GUzL",
        "outputId": "d86d2a2a-3960-421c-ff5c-8f32f6c23fe9"
      },
      "execution_count": null,
      "outputs": [
        {
          "output_type": "execute_result",
          "data": {
            "text/plain": [
              "SVC()"
            ]
          },
          "metadata": {},
          "execution_count": 64
        }
      ]
    },
    {
      "cell_type": "code",
      "source": [
        "model.score(x_test, y_test)"
      ],
      "metadata": {
        "colab": {
          "base_uri": "https://localhost:8080/"
        },
        "id": "M7Qhl_X3GU2O",
        "outputId": "e8343c35-ba3f-4fe7-acb9-079754694527"
      },
      "execution_count": null,
      "outputs": [
        {
          "output_type": "execute_result",
          "data": {
            "text/plain": [
              "0.7390261453585992"
            ]
          },
          "metadata": {},
          "execution_count": 65
        }
      ]
    },
    {
      "cell_type": "code",
      "source": [
        "predictions2 = model.predict(x_test)"
      ],
      "metadata": {
        "id": "RkbqN1MGGU4n"
      },
      "execution_count": null,
      "outputs": []
    },
    {
      "cell_type": "code",
      "source": [
        "predictions2"
      ],
      "metadata": {
        "colab": {
          "base_uri": "https://localhost:8080/"
        },
        "id": "Sbz1SQqsGU7s",
        "outputId": "a4e596ac-709e-475f-ad34-17cfe442c892"
      },
      "execution_count": null,
      "outputs": [
        {
          "output_type": "execute_result",
          "data": {
            "text/plain": [
              "array([False,  True,  True, ...,  True,  True, False])"
            ]
          },
          "metadata": {},
          "execution_count": 67
        }
      ]
    },
    {
      "cell_type": "code",
      "source": [
        "from sklearn.metrics import confusion_matrix\n",
        "y_pred = predictions2\n",
        "cm = confusion_matrix(y_test, y_pred)\n",
        "cm"
      ],
      "metadata": {
        "colab": {
          "base_uri": "https://localhost:8080/"
        },
        "id": "UcaaVOCPHpkf",
        "outputId": "a26a83e0-50fb-4fac-8698-fa3dd7e9f135"
      },
      "execution_count": null,
      "outputs": [
        {
          "output_type": "execute_result",
          "data": {
            "text/plain": [
              "array([[1400,  662],\n",
              "       [ 426, 1681]])"
            ]
          },
          "metadata": {},
          "execution_count": 68
        }
      ]
    },
    {
      "cell_type": "code",
      "source": [
        "plt.figure(figsize=(7,5))\n",
        "sn.heatmap(cm, annot=True)\n",
        "plt.xlabel('Predicted')\n",
        "plt.ylabel('Truth')"
      ],
      "metadata": {
        "colab": {
          "base_uri": "https://localhost:8080/",
          "height": 357
        },
        "id": "0DbEuEvXHpm7",
        "outputId": "029c8c67-09dc-4586-d7ea-ddd4003dcece"
      },
      "execution_count": null,
      "outputs": [
        {
          "output_type": "execute_result",
          "data": {
            "text/plain": [
              "Text(39.5, 0.5, 'Truth')"
            ]
          },
          "metadata": {},
          "execution_count": 69
        },
        {
          "output_type": "display_data",
          "data": {
            "image/png": "[encoded data removed]",
            "text/plain": [
              "<Figure size 504x360 with 2 Axes>"
            ]
          },
          "metadata": {}
        }
      ]
    },
    {
      "cell_type": "code",
      "source": [
        "print(classification_report(y_test, y_pred))"
      ],
      "metadata": {
        "colab": {
          "base_uri": "https://localhost:8080/"
        },
        "id": "dxTRxBgAHpqN",
        "outputId": "b12baef9-7a39-457b-cba8-c5fee2c96763"
      },
      "execution_count": null,
      "outputs": [
        {
          "output_type": "stream",
          "name": "stdout",
          "text": [
            "              precision    recall  f1-score   support\n",
            "\n",
            "       False       0.77      0.68      0.72      2062\n",
            "        True       0.72      0.80      0.76      2107\n",
            "\n",
            "    accuracy                           0.74      4169\n",
            "   macro avg       0.74      0.74      0.74      4169\n",
            "weighted avg       0.74      0.74      0.74      4169\n",
            "\n"
          ]
        }
      ]
    },
    {
      "cell_type": "code",
      "source": [
        "fpr, tpr, threshold = roc_curve(y_test, predictions2)\n",
        "roc_auc = auc(fpr, tpr)\n",
        "print(\"Accuracy:\",metrics.accuracy_score(y_test, predictions2))\n",
        "print(\"F1:\",metrics.f1_score(y_test, predictions2, average='weighted'))\n",
        "print(\"Precision:\",metrics.precision_score(y_test, predictions2, average='weighted'))\n",
        "print(\"Recall:\",metrics.recall_score(y_test, predictions2, average='weighted'))\n",
        "print('AUC : ', roc_auc_score(y_test, predictions2))"
      ],
      "metadata": {
        "colab": {
          "base_uri": "https://localhost:8080/"
        },
        "id": "xjE_CsmtHps5",
        "outputId": "a7b08e54-960d-4dfd-cb6f-91b455e48fd9"
      },
      "execution_count": null,
      "outputs": [
        {
          "output_type": "stream",
          "name": "stdout",
          "text": [
            "Accuracy: 0.7390261453585992\n",
            "F1: 0.7380258481523061\n",
            "Precision: 0.7418139299561318\n",
            "Recall: 0.7390261453585992\n",
            "AUC :  0.7383846372329638\n"
          ]
        }
      ]
    },
    {
      "cell_type": "markdown",
      "source": [
        "#KNN"
      ],
      "metadata": {
        "id": "i3eGEuEiHxL-"
      }
    },
    {
      "cell_type": "code",
      "source": [
        "from sklearn.neighbors import KNeighborsClassifier\n",
        "knn = KNeighborsClassifier(n_neighbors=3)"
      ],
      "metadata": {
        "id": "QYfO0J22Hpv5"
      },
      "execution_count": null,
      "outputs": []
    },
    {
      "cell_type": "code",
      "source": [
        "knn.fit(x_train, y_train)"
      ],
      "metadata": {
        "colab": {
          "base_uri": "https://localhost:8080/"
        },
        "id": "pgDmjQTVHpy1",
        "outputId": "0d44c81b-db16-4443-88ec-6adce73826b1"
      },
      "execution_count": null,
      "outputs": [
        {
          "output_type": "execute_result",
          "data": {
            "text/plain": [
              "KNeighborsClassifier(n_neighbors=3)"
            ]
          },
          "metadata": {},
          "execution_count": 73
        }
      ]
    },
    {
      "cell_type": "code",
      "source": [
        "knn.score(x_test, y_test)"
      ],
      "metadata": {
        "colab": {
          "base_uri": "https://localhost:8080/"
        },
        "id": "N1-b9qsCHp1x",
        "outputId": "e83c1433-e131-41a0-ac55-c0921b0cd699"
      },
      "execution_count": null,
      "outputs": [
        {
          "output_type": "execute_result",
          "data": {
            "text/plain": [
              "0.8834252818421684"
            ]
          },
          "metadata": {},
          "execution_count": 74
        }
      ]
    },
    {
      "cell_type": "code",
      "source": [
        "predictions3 = knn.predict(x_test)"
      ],
      "metadata": {
        "id": "H5IgQkt_Hp40"
      },
      "execution_count": null,
      "outputs": []
    },
    {
      "cell_type": "code",
      "source": [
        "predictions3"
      ],
      "metadata": {
        "colab": {
          "base_uri": "https://localhost:8080/"
        },
        "id": "pn_vVdBWHp77",
        "outputId": "f47035db-f720-4ebf-f3d5-966d430d3741"
      },
      "execution_count": null,
      "outputs": [
        {
          "output_type": "execute_result",
          "data": {
            "text/plain": [
              "array([False,  True,  True, ...,  True,  True, False])"
            ]
          },
          "metadata": {},
          "execution_count": 76
        }
      ]
    },
    {
      "cell_type": "code",
      "source": [
        "predictions3\n",
        "cm = confusion_matrix(y_test, predictions3)\n",
        "cm"
      ],
      "metadata": {
        "colab": {
          "base_uri": "https://localhost:8080/"
        },
        "id": "8pj2N-q4Hp-i",
        "outputId": "34e04626-4d5d-4cf5-d24a-fbf28ac81c07"
      },
      "execution_count": null,
      "outputs": [
        {
          "output_type": "execute_result",
          "data": {
            "text/plain": [
              "array([[1689,  373],\n",
              "       [ 113, 1994]])"
            ]
          },
          "metadata": {},
          "execution_count": 77
        }
      ]
    },
    {
      "cell_type": "code",
      "source": [
        "plt.figure(figsize=(7,5))\n",
        "sn.heatmap(cm, annot=True)\n",
        "plt.xlabel('Predicted')\n",
        "plt.ylabel('Truth')"
      ],
      "metadata": {
        "colab": {
          "base_uri": "https://localhost:8080/",
          "height": 357
        },
        "id": "DPNlsQDcHqBj",
        "outputId": "9ff48a54-b4e8-434e-d4e1-1a2baea4d9f7"
      },
      "execution_count": null,
      "outputs": [
        {
          "output_type": "execute_result",
          "data": {
            "text/plain": [
              "Text(39.5, 0.5, 'Truth')"
            ]
          },
          "metadata": {},
          "execution_count": 78
        },
        {
          "output_type": "display_data",
          "data": {
            "image/png": "[encoded data removed]",
            "text/plain": [
              "<Figure size 504x360 with 2 Axes>"
            ]
          },
          "metadata": {}
        }
      ]
    },
    {
      "cell_type": "code",
      "source": [
        "print(classification_report(y_test, predictions3))"
      ],
      "metadata": {
        "colab": {
          "base_uri": "https://localhost:8080/"
        },
        "id": "yZjZ-UnoHqEQ",
        "outputId": "8a0a61bf-94d7-4b2a-e7e4-8d4325fc0798"
      },
      "execution_count": null,
      "outputs": [
        {
          "output_type": "stream",
          "name": "stdout",
          "text": [
            "              precision    recall  f1-score   support\n",
            "\n",
            "       False       0.94      0.82      0.87      2062\n",
            "        True       0.84      0.95      0.89      2107\n",
            "\n",
            "    accuracy                           0.88      4169\n",
            "   macro avg       0.89      0.88      0.88      4169\n",
            "weighted avg       0.89      0.88      0.88      4169\n",
            "\n"
          ]
        }
      ]
    },
    {
      "cell_type": "code",
      "source": [
        "fpr, tpr, threshold = roc_curve(y_test, predictions3)\n",
        "roc_auc = auc(fpr, tpr)\n",
        "print(\"Accuracy:\",metrics.accuracy_score(y_test, predictions3))\n",
        "print(\"F1:\",metrics.f1_score(y_test, predictions3, average='weighted'))\n",
        "print(\"Precision:\",metrics.precision_score(y_test, predictions3, average='weighted'))\n",
        "print(\"Recall:\",metrics.recall_score(y_test, predictions3, average='weighted'))\n",
        "print('AUC : ', roc_auc_score(y_test, predictions3))"
      ],
      "metadata": {
        "colab": {
          "base_uri": "https://localhost:8080/"
        },
        "id": "P8VkKmx_HqHN",
        "outputId": "05e8dcca-d7a7-4b69-9f5b-20b3e01e77bb"
      },
      "execution_count": null,
      "outputs": [
        {
          "output_type": "stream",
          "name": "stdout",
          "text": [
            "Accuracy: 0.8834252818421684\n",
            "F1: 0.8828905396354181\n",
            "Precision: 0.8893421893929738\n",
            "Recall: 0.8834252818421684\n",
            "AUC :  0.8827384539180976\n"
          ]
        }
      ]
    },
    {
      "cell_type": "markdown",
      "source": [
        "#Logestic Regression with cross validation"
      ],
      "metadata": {
        "id": "kUVJDBiAH9wE"
      }
    },
    {
      "cell_type": "code",
      "source": [
        "from sklearn.linear_model import LogisticRegression\n",
        "from sklearn.model_selection import StratifiedKFold\n",
        "\n",
        "log_model = LogisticRegression(max_iter=100000, solver='saga')\n",
        "skf = StratifiedKFold(n_splits=10, random_state=3, shuffle=True)\n",
        "\n",
        "acc=[]\n",
        "def training(train, test, fold_no):\n",
        "  x_train = train\n",
        "  y_train = y.iloc[train_index]\n",
        "  x_test = test\n",
        "  y_test = y.iloc[test_index]\n",
        "  log_model.fit(x_train, y_train)\n",
        "  score = log_model.score(x_test,y_test)\n",
        "  acc.append(score)\n",
        "  print('For Fold {} the accuracy is {}'.format(str(fold_no),score))\n",
        "\n",
        "fold_no = 1\n",
        "for train_index,test_index in skf.split(x, y):\n",
        "  train = x.iloc[train_index,:]\n",
        "  test = x.iloc[test_index,:]\n",
        "  training(train, test, fold_no)\n",
        "  fold_no += 1\n",
        "print()\n",
        "print('Logestic Regression Mean Accuracy = ', np.mean(acc))"
      ],
      "metadata": {
        "colab": {
          "base_uri": "https://localhost:8080/"
        },
        "id": "t0ulPBB3HqKP",
        "outputId": "16f8a270-cdb1-46b5-ea1b-7666b85ef5eb"
      },
      "execution_count": null,
      "outputs": [
        {
          "output_type": "stream",
          "name": "stdout",
          "text": [
            "For Fold 1 the accuracy is 0.862124898621249\n",
            "For Fold 2 the accuracy is 0.8775344687753447\n",
            "For Fold 3 the accuracy is 0.8767234387672344\n",
            "For Fold 4 the accuracy is 0.8629359286293593\n",
            "For Fold 5 the accuracy is 0.862124898621249\n",
            "For Fold 6 the accuracy is 0.8669910786699108\n",
            "For Fold 7 the accuracy is 0.8669910786699108\n",
            "For Fold 8 the accuracy is 0.8629359286293593\n",
            "For Fold 9 the accuracy is 0.8645579886455799\n",
            "For Fold 10 the accuracy is 0.8653690186536902\n",
            "\n",
            "Logestic Regression Mean Accuracy =  0.8668288726682887\n"
          ]
        }
      ]
    },
    {
      "cell_type": "code",
      "source": [
        "log_model_predict = log_model.predict(test)\n",
        "log_model_predict_proba = log_model.predict_proba(test)\n",
        "\n",
        "print(classification_report(y.iloc[test_index], log_model_predict))"
      ],
      "metadata": {
        "id": "pjDdUU5fHqNA",
        "colab": {
          "base_uri": "https://localhost:8080/"
        },
        "outputId": "fef1ea5e-0553-4edf-cd02-017fd65e84b4"
      },
      "execution_count": null,
      "outputs": [
        {
          "output_type": "stream",
          "name": "stdout",
          "text": [
            "              precision    recall  f1-score   support\n",
            "\n",
            "       False       0.87      0.99      0.93      1042\n",
            "        True       0.75      0.20      0.31       191\n",
            "\n",
            "    accuracy                           0.87      1233\n",
            "   macro avg       0.81      0.59      0.62      1233\n",
            "weighted avg       0.85      0.87      0.83      1233\n",
            "\n"
          ]
        }
      ]
    },
    {
      "cell_type": "code",
      "source": [
        "print(\"Accuracy:\",metrics.accuracy_score(y.iloc[test_index], log_model_predict))\n",
        "print(\"F1:\",metrics.f1_score(y.iloc[test_index], log_model_predict, average='weighted'))\n",
        "print(\"Precision:\",metrics.precision_score(y.iloc[test_index], log_model_predict, average='weighted'))\n",
        "print(\"Recall:\",metrics.recall_score(y.iloc[test_index], log_model_predict, average='weighted'))\n",
        "\n",
        "fpr, tpr, threshold = roc_curve(y.iloc[test_index], log_model_predict_proba[:,1])\n",
        "roc_auc = auc(fpr, tpr)\n",
        "\n",
        "print('AUC : ', roc_auc_score(y.iloc[test_index], log_model_predict_proba[:,1]))"
      ],
      "metadata": {
        "id": "zD5v2ipDGU-d",
        "colab": {
          "base_uri": "https://localhost:8080/"
        },
        "outputId": "c7289087-e657-499c-c794-964a8420359e"
      },
      "execution_count": null,
      "outputs": [
        {
          "output_type": "stream",
          "name": "stdout",
          "text": [
            "Accuracy: 0.8653690186536902\n",
            "F1: 0.8306636587333861\n",
            "Precision: 0.8511237249808301\n",
            "Recall: 0.8653690186536902\n",
            "AUC :  0.7977032689853383\n"
          ]
        }
      ]
    },
    {
      "cell_type": "markdown",
      "source": [
        "#Conclusion"
      ],
      "metadata": {
        "id": "Kdc9Lzr9lxJ4"
      }
    },
    {
      "cell_type": "markdown",
      "source": [
        "This report demonstrated multiple prediction algorithms to predict online shops purchases. The data set showed different input parameters gathered, and we verified and trained the models for the input parameters given. "
      ],
      "metadata": {
        "id": "gPPUSbhuyqUA"
      }
    },
    {
      "cell_type": "markdown",
      "source": [
        "The prediction of revenue was tested with greater precision by evaluating the algorithms with an attribute collection and data set training. LogReg, KNN, SVM, and LogReg with CV algorithms are constructed to predict."
      ],
      "metadata": {
        "id": "PxyGFxFqyzei"
      }
    },
    {
      "cell_type": "markdown",
      "source": [
        "These findings showed that the KNN model accurately predicted the revenue of visitors. Hence, **KNN** is considered the best and most promising algorithm."
      ],
      "metadata": {
        "id": "LEorAhaUyzhG"
      }
    }
  ]
}